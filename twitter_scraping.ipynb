{
  "nbformat": 4,
  "nbformat_minor": 0,
  "metadata": {
    "kernelspec": {
      "display_name": "Python 3",
      "language": "python",
      "name": "python3"
    },
    "language_info": {
      "codemirror_mode": {
        "name": "ipython",
        "version": 3
      },
      "file_extension": ".py",
      "mimetype": "text/x-python",
      "name": "python",
      "nbconvert_exporter": "python",
      "pygments_lexer": "ipython3",
      "version": "3.8.5"
    },
    "colab": {
      "name": "twitter_scraping.ipynb",
      "provenance": []
    }
  },
  "cells": [
    {
      "cell_type": "code",
      "metadata": {
        "id": "NsqOmm0CpQD4"
      },
      "source": [
        "# import libraries to work with\n",
        "import numpy as np\n",
        "import scipy as sp\n",
        "import pandas as pd # lets us handle data as dataframes\n",
        "import matplotlib as mpl # this actually imports matplotlib\n",
        "import matplotlib.cm as cm # allows us easy access to colormaps\n",
        "import matplotlib.pyplot as plt # sets up plotting under plt\n",
        "import seaborn as sns # sets up styles and gives us more plotting options\n",
        "\n",
        "# setup pandas table display\n",
        "pd.set_option('display.width', 500)\n",
        "pd.set_option('display.max_column', None)\n",
        "pd.set_option('display.max_row', 100)\n",
        "pd.set_option('display.notebook_repr_html', True)\n",
        "%matplotlib inline "
      ],
      "execution_count": null,
      "outputs": []
    },
    {
      "cell_type": "code",
      "metadata": {
        "colab": {
          "base_uri": "https://localhost:8080/"
        },
        "id": "MFw_PcZnpQD2",
        "outputId": "74e8170b-6d0b-4a9c-99c2-64b70e5d349b"
      },
      "source": [
        "!pip install TwitterAPI"
      ],
      "execution_count": 1,
      "outputs": [
        {
          "output_type": "stream",
          "text": [
            "Collecting TwitterAPI\n",
            "  Downloading https://files.pythonhosted.org/packages/aa/cf/00cee2d02ffb191517d1ce54a52089568c973b0c0bbcd800b804ea56f8c7/TwitterAPI-2.6.6.tar.gz\n",
            "Requirement already satisfied: requests in /usr/local/lib/python3.6/dist-packages (from TwitterAPI) (2.23.0)\n",
            "Requirement already satisfied: requests_oauthlib in /usr/local/lib/python3.6/dist-packages (from TwitterAPI) (1.3.0)\n",
            "Requirement already satisfied: certifi>=2017.4.17 in /usr/local/lib/python3.6/dist-packages (from requests->TwitterAPI) (2020.12.5)\n",
            "Requirement already satisfied: chardet<4,>=3.0.2 in /usr/local/lib/python3.6/dist-packages (from requests->TwitterAPI) (3.0.4)\n",
            "Requirement already satisfied: idna<3,>=2.5 in /usr/local/lib/python3.6/dist-packages (from requests->TwitterAPI) (2.10)\n",
            "Requirement already satisfied: urllib3!=1.25.0,!=1.25.1,<1.26,>=1.21.1 in /usr/local/lib/python3.6/dist-packages (from requests->TwitterAPI) (1.24.3)\n",
            "Requirement already satisfied: oauthlib>=3.0.0 in /usr/local/lib/python3.6/dist-packages (from requests_oauthlib->TwitterAPI) (3.1.0)\n",
            "Building wheels for collected packages: TwitterAPI\n",
            "  Building wheel for TwitterAPI (setup.py) ... \u001b[?25l\u001b[?25hdone\n",
            "  Created wheel for TwitterAPI: filename=TwitterAPI-2.6.6-cp36-none-any.whl size=12337 sha256=ca5fbbb3236e63d5e9626fd6f9e9c766ce4a74d9a8d9aa411774c3dc27877e38\n",
            "  Stored in directory: /root/.cache/pip/wheels/d3/c7/34/62189e428c6e594d95af8eff8fa917c30dafa4609bfd4be9ba\n",
            "Successfully built TwitterAPI\n",
            "Installing collected packages: TwitterAPI\n",
            "Successfully installed TwitterAPI-2.6.6\n"
          ],
          "name": "stdout"
        }
      ]
    },
    {
      "cell_type": "code",
      "metadata": {
        "id": "GBh5oyjpqfAC"
      },
      "source": [
        "from TwitterAPI import TwitterAPI"
      ],
      "execution_count": 3,
      "outputs": []
    },
    {
      "cell_type": "code",
      "metadata": {
        "id": "nuhtdKclw36H"
      },
      "source": [
        "\r\n",
        "API_KEY = 'IebH0Uyd616ew862wkk9XAGBi'\r\n",
        "API_KEY_SECRET = 'KvusHVm9cVWCHwl47gBn7S04zOfdflwTnFoZJPqUEm1iC6ll99'\r\n",
        "\r\n",
        "ACCESS_TOKEN = '67538359-5OXqJwgfiAMPNHQE7fpmkfXJwIXN2YvzZxFGGC4SN'\r\n",
        "ACCESS_TOKEN_SECRET = 'mx5NLZGVNUORtfoGLqP92Pe1nIuyNeh8r1nxSwL65RTrg'"
      ],
      "execution_count": 4,
      "outputs": []
    },
    {
      "cell_type": "code",
      "metadata": {
        "colab": {
          "base_uri": "https://localhost:8080/"
        },
        "id": "0ey5sGpvxbUz",
        "outputId": "5edb23f4-6763-4db7-90a3-bfad7be0cc1c"
      },
      "source": [
        "#oAuth1\r\n",
        "apiAuth1 = TwitterAPI(API_KEY, API_KEY_SECRET, ACCESS_TOKEN, ACCESS_TOKEN_SECRET)\r\n",
        "#oAuth2\r\n",
        "#apiAuth2 = TwitterAPI(API_KEY, API_KEY_SECRET, auth_type='oAuth2')\r\n",
        "\r\n",
        "apiAuth1.auth"
      ],
      "execution_count": 13,
      "outputs": [
        {
          "output_type": "execute_result",
          "data": {
            "text/plain": [
              "<requests_oauthlib.oauth1_auth.OAuth1 at 0x7fc89c773668>"
            ]
          },
          "metadata": {
            "tags": []
          },
          "execution_count": 13
        }
      ]
    },
    {
      "cell_type": "code",
      "metadata": {
        "id": "v06N5f9p0VbQ"
      },
      "source": [
        "r = api.request('statuses/show/:%d' % 1270422899195817986)"
      ],
      "execution_count": 7,
      "outputs": []
    },
    {
      "cell_type": "code",
      "metadata": {
        "colab": {
          "base_uri": "https://localhost:8080/"
        },
        "id": "E2CkZyeI0xkN",
        "outputId": "62c6488f-563b-45dc-949d-594dfb3851b8"
      },
      "source": [
        "# import json\r\n",
        "# parsed_r = json.loads(r.text)\r\n",
        "# #print(json.dumps(parse_r, indent=3, sort_keys=True))\r\n",
        "# print(\"Tweet Body: \",parsed_r['text'])\r\n",
        "# print(\"Tweet ID: \",parsed_r['id'])\r\n",
        "# print(\"Screen Name: \",parsed_r['user']['screen_name'])"
      ],
      "execution_count": 19,
      "outputs": [
        {
          "output_type": "stream",
          "text": [
            "Tweet Body:  From my hometown, Cheyenne translation of Black Lives Matter. \n",
            "Mòȯhtȧevé'hòe hévòėstanéhevestoéva éhèȧmȯemenestse https://t.co/T7mWYkzF29\n",
            "Tweet ID:  1270422899195817986\n",
            "Screen Name:  CoreyWelch_STEM\n"
          ],
          "name": "stdout"
        }
      ]
    },
    {
      "cell_type": "code",
      "metadata": {
        "colab": {
          "base_uri": "https://localhost:8080/"
        },
        "id": "MDkeqUEf3k6q",
        "outputId": "4193eac2-de08-4a31-8bfe-a3ea785ab76f"
      },
      "source": [
        "r = api.request('statuses/show/:%d' % 1270422899195817986)\r\n",
        "for items in r.get_iterator():\r\n",
        "  print(\"Tweet Body: \", items['text'])\r\n",
        "  print(\"Tweet ID: \", items['id'])\r\n",
        "  print(\"Screen Name: \", items['user']['screen_name'])"
      ],
      "execution_count": 17,
      "outputs": [
        {
          "output_type": "stream",
          "text": [
            "Tweet Body:  From my hometown, Cheyenne translation of Black Lives Matter. \n",
            "Mòȯhtȧevé'hòe hévòėstanéhevestoéva éhèȧmȯemenestse https://t.co/T7mWYkzF29\n",
            "Tweet ID:  1270422899195817986\n",
            "Screen Name:  CoreyWelch_STEM\n"
          ],
          "name": "stdout"
        }
      ]
    },
    {
      "cell_type": "code",
      "metadata": {
        "colab": {
          "base_uri": "https://localhost:8080/",
          "height": 1000
        },
        "id": "VTymT14E7HsW",
        "outputId": "66f5af5f-d164-480a-a92b-e25793aa6dcc"
      },
      "source": [
        "TRACK_TERM = 'trump'\r\n",
        "r = api.request('statuses/filter', {'track': TRACK_TERM})\r\n",
        "\r\n",
        "# for items in r.get_iterator():\r\n",
        "#   print(items['text'], items['id'] if 'text' in items else items)\r\n",
        "\r\n",
        "with open(\"streamTweets.csv\",\"a\",encoding=\"utf-8\") as outfile:\r\n",
        "  for item in r.get_iterator():\r\n",
        "    line = item['text'] + ',' + str(item['id'])\r\n",
        "    print(line if 'text' in item else item)\r\n",
        "    outfile.write((repr(line) + '\\n') if 'text' in item else item)"
      ],
      "execution_count": 28,
      "outputs": [
        {
          "output_type": "stream",
          "text": [
            "RT @gtconway3d: No, it’s not a cult.  Not at all.,1361669047218180100\n",
            "RT @politvidchannel: BREAKING EXCLUSIVE: city officials around the country are thinking about suing former President Trump’s campaign to re…,1361669047901904896\n",
            "RT @KelemenCari: \"Wind energy is a scam originally pushed by scamster Ken Lay of Enron.\"\n",
            "- Donald Trump, Nov 2013,1361669048107368452\n",
            "RT @demontvalon1: #TrumpAcquitted Après l’acquittement de Trump, Joe Biden, sobrement: « Ce triste chapitre nous a rappelé que la démocrati…,1361669048526921728\n",
            "This is the exact thing I was yelling at the TV last night, meaning it's time to stop watching the news for a while… https://t.co/RDRaPTAELu,1361669048371716104\n",
            "@AntonioSabatojr Thats exactly right!!! President Trump showed us.. thats why they hate him.,1361669049038630913\n",
            "RT @kylegriffin1: If the GOP is 'anti-cancel culture', then why are so many state Republican parties voting to censure GOP senators who vot…,1361669049365585922\n",
            "Valuable thread on the consequences of Trump - in great part made possible by the blind support of his party.,1361669049185423362\n",
            "@tedcruz \n",
            "\n",
            "You &amp; your Brother/Husband Trump...\n",
            "\n",
            "American Traitors, Biggets, the lowest form of life. Pure racist, g… https://t.co/LGUi2paEDx,1361669049302802435\n",
            "\"Parler, a Social Network That Attracted Trump Fans, Returns Online\" by Jack Nicas via NYT https://t.co/OiXIqF8qsl… https://t.co/PVtdINc69t,1361669049151799296\n",
            "RT @davidmweissman: When I was a Trump supporter, it didn't seem like it was gaslighting and gerrymandering to us. I thought we were callin…,1361669049827098624\n",
            "RT @danielsgoldman: The recent impeachment trial revealed a new dimension to an old problem with Trump: witness intimidation.  My latest in…,1361669049982324742\n",
            "RT @HarryPotterMAGE: THUS, WHAT HAPPENED WITH HITLER COULD VERY WELL HAPPEN WITH TRUMP.\n",
            "He could try to run again...\n",
            "15 / End\n",
            "Sources : Wik…,1361669050556968960\n",
            "Congrats to this team!,1361669050661810176\n",
            "@LaCroixduSud3 Il y a 5 gouverneurs dans cette même situation. Cing gouverneurs DÉMOCRATES, leurs États respectifs… https://t.co/lKvsdgWK3V,1361669050787639297\n",
            "RT @robreiner: Witness tampering. Obstruction of Justice. Tax fraud. Bank fraud. Insurance fraud. Money laundering. Campaign finance corrup…,1361669051341225985\n",
            "@vtbirkenstock @my6girls2012 @JoeBiden Because President Donald J Trump set it up. Ergo, IT MUST GO. Why has he don… https://t.co/9yGruRNSxP,1361669051202863105\n",
            "RT @kathrynresister: Adam Kinzinger (R-IL) has been shunned by his family for speaking out against Trump and the Jan 6 insurrection. Family…,1361669051441836035\n",
            "RT @gregpinelo: Something weird is going on with him. Trump lives to be on TV. I thought he’d unleash tons of pent-up petulance on Fox or O…,1361669051475501057\n",
            "@washingtonpost Republican Congressman Adam Kissinger is a True Patriot &amp; an American who have sided with the major… https://t.co/JMYVM6rFr5,1361669052175908870\n",
            "14th Amendment could be used to prevent Trump from running again. He must be prevented from running for any office… https://t.co/blktSFZxA1,1361669052356325377\n",
            "RT @AssusReamus: Do you think it’s time Media moved on from Trump &amp; started covering positive Biden doings ?,1361669052620562436\n",
            "RT @ThePlumLineGS: .@LeaderMcConnell claims in this op ed that the mob was inspired to attack the Capitol by Trump's \"unhinged falsehoods\"…,1361669052595384325\n",
            "RT @Wizard_Predicts: Bannon said Trump could become speaker of the House in 2022 and impeach President Biden. https://t.co/ttMtXYWfq7,1361669053300023297\n",
            "RT @TheUSASingers: Let’s help @Sites4Congress get to 70k followers!!!\n",
            "\n",
            "He’s running against Gym Jordan, and with our help, he will be victo…,1361669053190971393\n",
            "RT @Roshan_Rinaldi: The 14th Amendment could prevent Trump from EVER holding public office again.\n",
            "\n",
            "All it takes is 51 votes. https://t.co/k…,1361669053308407808\n",
            "@KRespekter @stued70 @DonVito98657797 @CASOSvote Fraud? Like trump telling georgia to \"find\" 11,780 votes? You've S… https://t.co/5dJpEfcsWI,1361669052733792259\n",
            "RT @thomaskaine5: @POTUS Should Free TRUMP'S POLITICAL PRISIONER...it's a travesty that Reality Leigh Winner is still in prison https://t.c…,1361669053505544198\n",
            "@MeidasGraphics2 @ddale8 CNN's star fact-checker Daniel Dale also spent the weekend fixating on the Trump defense t… https://t.co/ktUMkuBb1B,1361669054424055815\n",
            "@knuutty6 @carbonbaby @Drnymcdronface @stevefortier86 @Amy_Siskind So you think that Russian Facebook ads of a few… https://t.co/FD8Xdk05xT,1361669054721843201\n",
            "Five Minutes Earlier… via text:\n",
            "\n",
            "DJT: Ron. Ronny. What’re you doing? Don’t answer. I don’t care. I’m just texting t… https://t.co/wZAdSxC2RV,1361669054734471168\n",
            "RT @RonnyJacksonTX: On this President’s Day, I want to remind everyone that we’ve NEVER had a President as successful as President Donald J…,1361669054990217224\n",
            "RT @gtconway3d: No, it’s not a cult.  Not at all. https://t.co/I1MWBURypv,1361669055485251584\n",
            "@slpng_giants @CloudRoute @Microsoft @satyanadella So Parler full of racism &amp; violence just Bc Trump supporters rat… https://t.co/2rlBdnD3Ie,1361669056076664835\n",
            "RT @TheBelaaz: 🇺🇸 — VIDEO: Former President Donald Trump’s motorcade drove by moments ago near the West Palm Beach Presidents Day rally in…,1361669056517066752\n",
            "Parler, a Social Network That Attracted Trump Fans, Returns Online https://t.co/4sOZrEwYRH,1361669056789684225\n",
            "RT @dailykos: GOP falls into further disarray after seven Republican senators admit Trump was 100% guilty https://t.co/MzGNZxrsIb,1361669056969854978\n",
            "@gazetadopovo Depois o mesmo cara  dá chilique porque as plataformas tiraram Trump ou Terça Livre do ar...,1361669057230082051\n",
            "RT @RandyRRQuaid: I’m a witness for the defense—a giant Trump supporter who listened to every word he said on June 6th. I was NOT incited t…,1361669057368457217\n",
            "RT @w_terrence: NANCY PELOSI TEMPER TANTRUM \n",
            "\n",
            "I can’t stop laughing at Nancy Pelosi throwing a hissy fit \n",
            "\n",
            "She would like for people on Twi…,1361669058467307520\n",
            "RT @SpeakerPelosi: It’s pathetic that @LeaderMcConnell kept the Senate shut down so that Article of Impeachment couldn’t be received &amp; used…,1361669058702229512\n",
            "RT @ACTBrigitte: Donald Trump is better than Joe Biden in every single way.,1361669059285237762\n",
            "@OhNoSheTwitnt There's a pickup truck I see here sometimes with \"THANK YOU AMERICA!\" in huge letters decaled on and… https://t.co/OL3IGX7FcD,1361669059511607296\n",
            "If these ignorant ppl were in  my neighborhood they would be frozen wind chill -16,1361669059624898561\n",
            "RT @CREWcrew: Louis DeJoy broke the USPS to try to fix the election for Trump. It didn't work. Now he wants to do further damage to the Pos…,1361669059838935041\n",
            "RT @TheTNHoller: Pennsylvania GOP County Party Chair on Senator Toomey voting Trump GUILTY: “We did not send him there to vote his conscien…,1361669060073844736\n",
            "@TeaPainUSA Censorship is the new form of #CancelCulture employed by Trump's @GOP to bully &amp; punish those who does… https://t.co/AbtYfbno96,1361669060216446976\n",
            "RT @perrybaconjr: In Washington, Jan 6 resulted in a small GOP backlash against Trump. At the local/state level, there was a backlash--agai…,1361669060321230849\n",
            "How the Right Turned Into A Cult https://t.co/S8quEZkEPI via @flipboard #Trump #facts #CovidVaccine #Fauci #CNN… https://t.co/KD381fTfGU,1361669061004980225\n",
            "RT @girlsreallyrule: \"There's no question, none, that President Trump is practically and morally responsible for provoking the [attack]..Th…,1361669061537501190\n",
            "Republicans, such as yourself, never cease to provide comedy noir. But seriously Ronny, you need not say you care o… https://t.co/RLGkXjUjAA,1361669061634101254\n",
            "RT @GrondaMorin: @DesignationSix @thomaskaine5 @Disney @hulu @ProcterGamble @Tampax @Always @amazon @PetSmart @Chewy @Verizon @Carvana @off…,1361669062229708803\n",
            "RT @washingtonpost: GOP Rep. Adam Kinzinger’s family bashed him for voting to impeach Trump: \"We are thoroughly disgusted with you!\" https:…,1361669062678482945\n",
            "@TrumpHeadlines2 @thehill Trump's approval rating leaving office was 29%. 😂\n",
            "https://t.co/s2En9DiTe6,1361669062674157571\n",
            "RT @Truth_Gazette: 🚨 BREAKING: President Trump just drove by the HUGE West Palm Beach Presidents Day rally in a motorcade 🇺🇸https://t.co/mo…,1361669062938427394\n",
            "RT @brianeharrison: Finally, if interested, here’s a photo of us briefing President Trump on “the plan” – along with Dr. Fauci, Dr. Birx, D…,1361669063223746567\n",
            "Face it Ronny, our democracy is strong, our nation held in great esteem, even if Trump tried to destroy us, simply… https://t.co/hzo2eU7D0w,1361669063345332234\n",
            "RT @w_terrence: NANCY PELOSI TEMPER TANTRUM \n",
            "\n",
            "I can’t stop laughing at Nancy Pelosi throwing a hissy fit \n",
            "\n",
            "She would like for people on Twi…,1361669063878070281\n",
            "RT @KamVTV: Did y’all see all the Presidents’ Day parades and rallies across the United States for Joe Biden the most popular president eve…,1361669063987060746\n",
            "Trump never used the weather machine this much. You guys wanted Biden,  now look,1361669064146362372\n",
            "THAT requires CONNECTION even from the abject selfishness you have and which Trump’s base exhibits.,1361669064326791172\n",
            "RT @funder: A Trump criminal probe in Georgia expands to include Lindsey Graham\n",
            "\n",
            " https://t.co/81PQDJsmem,1361669064456773632\n",
            "RT @AssusReamus: Do you think it’s time Media moved on from Trump &amp; started covering positive Biden doings ?,1361669064851095554\n",
            "@LindseyGrahamSC you’re an embarrassment....you know it’s all goi g to come out Lindsey and you’ll have to resign i… https://t.co/oddkDfGcBu,1361669064792375298\n",
            "@DailyCaller So they polled all the Trump hating Communist Democrats. Polls can easily be skewed to the left.,1361669065002131460\n",
            "@TheRealKeean @erinotoole @PierrePoilievre For the countries sake I hope this is the equivalent to everyone thinkin… https://t.co/UlpRj7PZWu,1361669064968429570\n",
            "@SpeakerPelosi I am one of your biggest fans -- please read this:,1361669065312452609\n",
            "💯💯💯💯💯,1361669065501196291\n",
            "RT @JoeNBC: “We did not send him there tondo the right thing” just about sums up everything you need to know about Trump Republicans. A val…,1361669065836650500\n",
            "RT @ScottAdamsSays: Trump will look smarter every day Biden is in office.,1361669066038140928\n",
            "RT @EmeraldRobinson: 11 members of Rep. Adam Kinzinger’s family have disowned him in a scathing letter for his opposition to President Trum…,1361669066482741248\n",
            "RT @EmeraldRobinson: Remember all those pundits who told you Trump’s popularity was waning?,1361669067258519556\n",
            "RT @TheLeoTerrell: President Trump:  75 million voters and I continue to support you!! #GodBlessAmerica #GodBlessPresidentTrump,1361669067443118080\n",
            "RT @trbrtc: Here's how. On Jan. 5, Mr. Stone made two public appearances in D.C. in support of Mr. Trump’s baseless claims of election frau…,1361669067720036361\n",
            "RT @johncardillo: Everyone is forgetting that the U.S. Navy sent the USS Comfort to New York (at Trump’s direction), and instead of using i…,1361669067770224640\n",
            "RT @richsignorelli: Here are 8 Trump-related investigation priorities for DOJ/Congress:\n",
            "\n",
            "1 Election fraud \n",
            "2 Covid response\n",
            "3 Attempt to ov…,1361669068303069189\n"
          ],
          "name": "stdout"
        },
        {
          "output_type": "error",
          "ename": "KeyboardInterrupt",
          "evalue": "ignored",
          "traceback": [
            "\u001b[0;31m---------------------------------------------------------------------------\u001b[0m",
            "\u001b[0;31mKeyboardInterrupt\u001b[0m                         Traceback (most recent call last)",
            "\u001b[0;32m<ipython-input-28-aa9203aa3a31>\u001b[0m in \u001b[0;36m<module>\u001b[0;34m()\u001b[0m\n\u001b[1;32m      6\u001b[0m \u001b[0;34m\u001b[0m\u001b[0m\n\u001b[1;32m      7\u001b[0m \u001b[0;32mwith\u001b[0m \u001b[0mopen\u001b[0m\u001b[0;34m(\u001b[0m\u001b[0;34m\"streamTweets.csv\"\u001b[0m\u001b[0;34m,\u001b[0m\u001b[0;34m\"a\"\u001b[0m\u001b[0;34m,\u001b[0m\u001b[0mencoding\u001b[0m\u001b[0;34m=\u001b[0m\u001b[0;34m\"utf-8\"\u001b[0m\u001b[0;34m)\u001b[0m \u001b[0;32mas\u001b[0m \u001b[0moutfile\u001b[0m\u001b[0;34m:\u001b[0m\u001b[0;34m\u001b[0m\u001b[0;34m\u001b[0m\u001b[0m\n\u001b[0;32m----> 8\u001b[0;31m   \u001b[0;32mfor\u001b[0m \u001b[0mitem\u001b[0m \u001b[0;32min\u001b[0m \u001b[0mr\u001b[0m\u001b[0;34m.\u001b[0m\u001b[0mget_iterator\u001b[0m\u001b[0;34m(\u001b[0m\u001b[0;34m)\u001b[0m\u001b[0;34m:\u001b[0m\u001b[0;34m\u001b[0m\u001b[0;34m\u001b[0m\u001b[0m\n\u001b[0m\u001b[1;32m      9\u001b[0m     \u001b[0mline\u001b[0m \u001b[0;34m=\u001b[0m \u001b[0mitem\u001b[0m\u001b[0;34m[\u001b[0m\u001b[0;34m'text'\u001b[0m\u001b[0;34m]\u001b[0m \u001b[0;34m+\u001b[0m \u001b[0;34m','\u001b[0m \u001b[0;34m+\u001b[0m \u001b[0mstr\u001b[0m\u001b[0;34m(\u001b[0m\u001b[0mitem\u001b[0m\u001b[0;34m[\u001b[0m\u001b[0;34m'id'\u001b[0m\u001b[0;34m]\u001b[0m\u001b[0;34m)\u001b[0m\u001b[0;34m\u001b[0m\u001b[0;34m\u001b[0m\u001b[0m\n\u001b[1;32m     10\u001b[0m     \u001b[0mprint\u001b[0m\u001b[0;34m(\u001b[0m\u001b[0mline\u001b[0m \u001b[0;32mif\u001b[0m \u001b[0;34m'text'\u001b[0m \u001b[0;32min\u001b[0m \u001b[0mitem\u001b[0m \u001b[0;32melse\u001b[0m \u001b[0mitem\u001b[0m\u001b[0;34m)\u001b[0m\u001b[0;34m\u001b[0m\u001b[0;34m\u001b[0m\u001b[0m\n",
            "\u001b[0;32m/usr/local/lib/python3.6/dist-packages/TwitterAPI/TwitterAPI.py\u001b[0m in \u001b[0;36m__iter__\u001b[0;34m(self)\u001b[0m\n\u001b[1;32m    367\u001b[0m         \u001b[0;34m:\u001b[0m\u001b[0mraises\u001b[0m\u001b[0;34m:\u001b[0m \u001b[0mTwitterConnectionError\u001b[0m\u001b[0;34m\u001b[0m\u001b[0;34m\u001b[0m\u001b[0m\n\u001b[1;32m    368\u001b[0m         \"\"\"\n\u001b[0;32m--> 369\u001b[0;31m         \u001b[0;32mfor\u001b[0m \u001b[0mitem\u001b[0m \u001b[0;32min\u001b[0m \u001b[0mself\u001b[0m\u001b[0;34m.\u001b[0m\u001b[0m_iter_stream\u001b[0m\u001b[0;34m(\u001b[0m\u001b[0;34m)\u001b[0m\u001b[0;34m:\u001b[0m\u001b[0;34m\u001b[0m\u001b[0;34m\u001b[0m\u001b[0m\n\u001b[0m\u001b[1;32m    370\u001b[0m             \u001b[0;32mif\u001b[0m \u001b[0mitem\u001b[0m\u001b[0;34m:\u001b[0m\u001b[0;34m\u001b[0m\u001b[0;34m\u001b[0m\u001b[0m\n\u001b[1;32m    371\u001b[0m                 \u001b[0;32mtry\u001b[0m\u001b[0;34m:\u001b[0m\u001b[0;34m\u001b[0m\u001b[0;34m\u001b[0m\u001b[0m\n",
            "\u001b[0;32m/usr/local/lib/python3.6/dist-packages/TwitterAPI/TwitterAPI.py\u001b[0m in \u001b[0;36m_iter_stream\u001b[0;34m(self)\u001b[0m\n\u001b[1;32m    336\u001b[0m                 \u001b[0;32mwhile\u001b[0m \u001b[0;32mTrue\u001b[0m\u001b[0;34m:\u001b[0m\u001b[0;34m\u001b[0m\u001b[0;34m\u001b[0m\u001b[0m\n\u001b[1;32m    337\u001b[0m                     \u001b[0;31m# read bytes until item boundary reached\u001b[0m\u001b[0;34m\u001b[0m\u001b[0;34m\u001b[0m\u001b[0;34m\u001b[0m\u001b[0m\n\u001b[0;32m--> 338\u001b[0;31m                     \u001b[0mbuf\u001b[0m \u001b[0;34m+=\u001b[0m \u001b[0mself\u001b[0m\u001b[0;34m.\u001b[0m\u001b[0mstream\u001b[0m\u001b[0;34m.\u001b[0m\u001b[0mread\u001b[0m\u001b[0;34m(\u001b[0m\u001b[0;36m1\u001b[0m\u001b[0;34m)\u001b[0m\u001b[0;34m\u001b[0m\u001b[0;34m\u001b[0m\u001b[0m\n\u001b[0m\u001b[1;32m    339\u001b[0m                     \u001b[0;32mif\u001b[0m \u001b[0;32mnot\u001b[0m \u001b[0mbuf\u001b[0m\u001b[0;34m:\u001b[0m\u001b[0;34m\u001b[0m\u001b[0;34m\u001b[0m\u001b[0m\n\u001b[1;32m    340\u001b[0m                         \u001b[0;31m# check for stall (i.e. no data for 90 seconds)\u001b[0m\u001b[0;34m\u001b[0m\u001b[0;34m\u001b[0m\u001b[0;34m\u001b[0m\u001b[0m\n",
            "\u001b[0;32m/usr/local/lib/python3.6/dist-packages/urllib3/response.py\u001b[0m in \u001b[0;36mread\u001b[0;34m(self, amt, decode_content, cache_content)\u001b[0m\n\u001b[1;32m    442\u001b[0m             \u001b[0;32melse\u001b[0m\u001b[0;34m:\u001b[0m\u001b[0;34m\u001b[0m\u001b[0;34m\u001b[0m\u001b[0m\n\u001b[1;32m    443\u001b[0m                 \u001b[0mcache_content\u001b[0m \u001b[0;34m=\u001b[0m \u001b[0;32mFalse\u001b[0m\u001b[0;34m\u001b[0m\u001b[0;34m\u001b[0m\u001b[0m\n\u001b[0;32m--> 444\u001b[0;31m                 \u001b[0mdata\u001b[0m \u001b[0;34m=\u001b[0m \u001b[0mself\u001b[0m\u001b[0;34m.\u001b[0m\u001b[0m_fp\u001b[0m\u001b[0;34m.\u001b[0m\u001b[0mread\u001b[0m\u001b[0;34m(\u001b[0m\u001b[0mamt\u001b[0m\u001b[0;34m)\u001b[0m\u001b[0;34m\u001b[0m\u001b[0;34m\u001b[0m\u001b[0m\n\u001b[0m\u001b[1;32m    445\u001b[0m                 \u001b[0;32mif\u001b[0m \u001b[0mamt\u001b[0m \u001b[0;34m!=\u001b[0m \u001b[0;36m0\u001b[0m \u001b[0;32mand\u001b[0m \u001b[0;32mnot\u001b[0m \u001b[0mdata\u001b[0m\u001b[0;34m:\u001b[0m  \u001b[0;31m# Platform-specific: Buggy versions of Python.\u001b[0m\u001b[0;34m\u001b[0m\u001b[0;34m\u001b[0m\u001b[0m\n\u001b[1;32m    446\u001b[0m                     \u001b[0;31m# Close the connection when no data is returned\u001b[0m\u001b[0;34m\u001b[0m\u001b[0;34m\u001b[0m\u001b[0;34m\u001b[0m\u001b[0m\n",
            "\u001b[0;32m/usr/lib/python3.6/http/client.py\u001b[0m in \u001b[0;36mread\u001b[0;34m(self, amt)\u001b[0m\n\u001b[1;32m    461\u001b[0m             \u001b[0;31m# Amount is given, implement using readinto\u001b[0m\u001b[0;34m\u001b[0m\u001b[0;34m\u001b[0m\u001b[0;34m\u001b[0m\u001b[0m\n\u001b[1;32m    462\u001b[0m             \u001b[0mb\u001b[0m \u001b[0;34m=\u001b[0m \u001b[0mbytearray\u001b[0m\u001b[0;34m(\u001b[0m\u001b[0mamt\u001b[0m\u001b[0;34m)\u001b[0m\u001b[0;34m\u001b[0m\u001b[0;34m\u001b[0m\u001b[0m\n\u001b[0;32m--> 463\u001b[0;31m             \u001b[0mn\u001b[0m \u001b[0;34m=\u001b[0m \u001b[0mself\u001b[0m\u001b[0;34m.\u001b[0m\u001b[0mreadinto\u001b[0m\u001b[0;34m(\u001b[0m\u001b[0mb\u001b[0m\u001b[0;34m)\u001b[0m\u001b[0;34m\u001b[0m\u001b[0;34m\u001b[0m\u001b[0m\n\u001b[0m\u001b[1;32m    464\u001b[0m             \u001b[0;32mreturn\u001b[0m \u001b[0mmemoryview\u001b[0m\u001b[0;34m(\u001b[0m\u001b[0mb\u001b[0m\u001b[0;34m)\u001b[0m\u001b[0;34m[\u001b[0m\u001b[0;34m:\u001b[0m\u001b[0mn\u001b[0m\u001b[0;34m]\u001b[0m\u001b[0;34m.\u001b[0m\u001b[0mtobytes\u001b[0m\u001b[0;34m(\u001b[0m\u001b[0;34m)\u001b[0m\u001b[0;34m\u001b[0m\u001b[0;34m\u001b[0m\u001b[0m\n\u001b[1;32m    465\u001b[0m         \u001b[0;32melse\u001b[0m\u001b[0;34m:\u001b[0m\u001b[0;34m\u001b[0m\u001b[0;34m\u001b[0m\u001b[0m\n",
            "\u001b[0;32m/usr/lib/python3.6/http/client.py\u001b[0m in \u001b[0;36mreadinto\u001b[0;34m(self, b)\u001b[0m\n\u001b[1;32m    495\u001b[0m \u001b[0;34m\u001b[0m\u001b[0m\n\u001b[1;32m    496\u001b[0m         \u001b[0;32mif\u001b[0m \u001b[0mself\u001b[0m\u001b[0;34m.\u001b[0m\u001b[0mchunked\u001b[0m\u001b[0;34m:\u001b[0m\u001b[0;34m\u001b[0m\u001b[0;34m\u001b[0m\u001b[0m\n\u001b[0;32m--> 497\u001b[0;31m             \u001b[0;32mreturn\u001b[0m \u001b[0mself\u001b[0m\u001b[0;34m.\u001b[0m\u001b[0m_readinto_chunked\u001b[0m\u001b[0;34m(\u001b[0m\u001b[0mb\u001b[0m\u001b[0;34m)\u001b[0m\u001b[0;34m\u001b[0m\u001b[0;34m\u001b[0m\u001b[0m\n\u001b[0m\u001b[1;32m    498\u001b[0m \u001b[0;34m\u001b[0m\u001b[0m\n\u001b[1;32m    499\u001b[0m         \u001b[0;32mif\u001b[0m \u001b[0mself\u001b[0m\u001b[0;34m.\u001b[0m\u001b[0mlength\u001b[0m \u001b[0;32mis\u001b[0m \u001b[0;32mnot\u001b[0m \u001b[0;32mNone\u001b[0m\u001b[0;34m:\u001b[0m\u001b[0;34m\u001b[0m\u001b[0;34m\u001b[0m\u001b[0m\n",
            "\u001b[0;32m/usr/lib/python3.6/http/client.py\u001b[0m in \u001b[0;36m_readinto_chunked\u001b[0;34m(self, b)\u001b[0m\n\u001b[1;32m    590\u001b[0m         \u001b[0;32mtry\u001b[0m\u001b[0;34m:\u001b[0m\u001b[0;34m\u001b[0m\u001b[0;34m\u001b[0m\u001b[0m\n\u001b[1;32m    591\u001b[0m             \u001b[0;32mwhile\u001b[0m \u001b[0;32mTrue\u001b[0m\u001b[0;34m:\u001b[0m\u001b[0;34m\u001b[0m\u001b[0;34m\u001b[0m\u001b[0m\n\u001b[0;32m--> 592\u001b[0;31m                 \u001b[0mchunk_left\u001b[0m \u001b[0;34m=\u001b[0m \u001b[0mself\u001b[0m\u001b[0;34m.\u001b[0m\u001b[0m_get_chunk_left\u001b[0m\u001b[0;34m(\u001b[0m\u001b[0;34m)\u001b[0m\u001b[0;34m\u001b[0m\u001b[0;34m\u001b[0m\u001b[0m\n\u001b[0m\u001b[1;32m    593\u001b[0m                 \u001b[0;32mif\u001b[0m \u001b[0mchunk_left\u001b[0m \u001b[0;32mis\u001b[0m \u001b[0;32mNone\u001b[0m\u001b[0;34m:\u001b[0m\u001b[0;34m\u001b[0m\u001b[0;34m\u001b[0m\u001b[0m\n\u001b[1;32m    594\u001b[0m                     \u001b[0;32mreturn\u001b[0m \u001b[0mtotal_bytes\u001b[0m\u001b[0;34m\u001b[0m\u001b[0;34m\u001b[0m\u001b[0m\n",
            "\u001b[0;32m/usr/lib/python3.6/http/client.py\u001b[0m in \u001b[0;36m_get_chunk_left\u001b[0;34m(self)\u001b[0m\n\u001b[1;32m    558\u001b[0m                 \u001b[0mself\u001b[0m\u001b[0;34m.\u001b[0m\u001b[0m_safe_read\u001b[0m\u001b[0;34m(\u001b[0m\u001b[0;36m2\u001b[0m\u001b[0;34m)\u001b[0m  \u001b[0;31m# toss the CRLF at the end of the chunk\u001b[0m\u001b[0;34m\u001b[0m\u001b[0;34m\u001b[0m\u001b[0m\n\u001b[1;32m    559\u001b[0m             \u001b[0;32mtry\u001b[0m\u001b[0;34m:\u001b[0m\u001b[0;34m\u001b[0m\u001b[0;34m\u001b[0m\u001b[0m\n\u001b[0;32m--> 560\u001b[0;31m                 \u001b[0mchunk_left\u001b[0m \u001b[0;34m=\u001b[0m \u001b[0mself\u001b[0m\u001b[0;34m.\u001b[0m\u001b[0m_read_next_chunk_size\u001b[0m\u001b[0;34m(\u001b[0m\u001b[0;34m)\u001b[0m\u001b[0;34m\u001b[0m\u001b[0;34m\u001b[0m\u001b[0m\n\u001b[0m\u001b[1;32m    561\u001b[0m             \u001b[0;32mexcept\u001b[0m \u001b[0mValueError\u001b[0m\u001b[0;34m:\u001b[0m\u001b[0;34m\u001b[0m\u001b[0;34m\u001b[0m\u001b[0m\n\u001b[1;32m    562\u001b[0m                 \u001b[0;32mraise\u001b[0m \u001b[0mIncompleteRead\u001b[0m\u001b[0;34m(\u001b[0m\u001b[0;34mb''\u001b[0m\u001b[0;34m)\u001b[0m\u001b[0;34m\u001b[0m\u001b[0;34m\u001b[0m\u001b[0m\n",
            "\u001b[0;32m/usr/lib/python3.6/http/client.py\u001b[0m in \u001b[0;36m_read_next_chunk_size\u001b[0;34m(self)\u001b[0m\n\u001b[1;32m    518\u001b[0m     \u001b[0;32mdef\u001b[0m \u001b[0m_read_next_chunk_size\u001b[0m\u001b[0;34m(\u001b[0m\u001b[0mself\u001b[0m\u001b[0;34m)\u001b[0m\u001b[0;34m:\u001b[0m\u001b[0;34m\u001b[0m\u001b[0;34m\u001b[0m\u001b[0m\n\u001b[1;32m    519\u001b[0m         \u001b[0;31m# Read the next chunk size from the file\u001b[0m\u001b[0;34m\u001b[0m\u001b[0;34m\u001b[0m\u001b[0;34m\u001b[0m\u001b[0m\n\u001b[0;32m--> 520\u001b[0;31m         \u001b[0mline\u001b[0m \u001b[0;34m=\u001b[0m \u001b[0mself\u001b[0m\u001b[0;34m.\u001b[0m\u001b[0mfp\u001b[0m\u001b[0;34m.\u001b[0m\u001b[0mreadline\u001b[0m\u001b[0;34m(\u001b[0m\u001b[0m_MAXLINE\u001b[0m \u001b[0;34m+\u001b[0m \u001b[0;36m1\u001b[0m\u001b[0;34m)\u001b[0m\u001b[0;34m\u001b[0m\u001b[0;34m\u001b[0m\u001b[0m\n\u001b[0m\u001b[1;32m    521\u001b[0m         \u001b[0;32mif\u001b[0m \u001b[0mlen\u001b[0m\u001b[0;34m(\u001b[0m\u001b[0mline\u001b[0m\u001b[0;34m)\u001b[0m \u001b[0;34m>\u001b[0m \u001b[0m_MAXLINE\u001b[0m\u001b[0;34m:\u001b[0m\u001b[0;34m\u001b[0m\u001b[0;34m\u001b[0m\u001b[0m\n\u001b[1;32m    522\u001b[0m             \u001b[0;32mraise\u001b[0m \u001b[0mLineTooLong\u001b[0m\u001b[0;34m(\u001b[0m\u001b[0;34m\"chunk size\"\u001b[0m\u001b[0;34m)\u001b[0m\u001b[0;34m\u001b[0m\u001b[0;34m\u001b[0m\u001b[0m\n",
            "\u001b[0;32m/usr/lib/python3.6/socket.py\u001b[0m in \u001b[0;36mreadinto\u001b[0;34m(self, b)\u001b[0m\n\u001b[1;32m    584\u001b[0m         \u001b[0;32mwhile\u001b[0m \u001b[0;32mTrue\u001b[0m\u001b[0;34m:\u001b[0m\u001b[0;34m\u001b[0m\u001b[0;34m\u001b[0m\u001b[0m\n\u001b[1;32m    585\u001b[0m             \u001b[0;32mtry\u001b[0m\u001b[0;34m:\u001b[0m\u001b[0;34m\u001b[0m\u001b[0;34m\u001b[0m\u001b[0m\n\u001b[0;32m--> 586\u001b[0;31m                 \u001b[0;32mreturn\u001b[0m \u001b[0mself\u001b[0m\u001b[0;34m.\u001b[0m\u001b[0m_sock\u001b[0m\u001b[0;34m.\u001b[0m\u001b[0mrecv_into\u001b[0m\u001b[0;34m(\u001b[0m\u001b[0mb\u001b[0m\u001b[0;34m)\u001b[0m\u001b[0;34m\u001b[0m\u001b[0;34m\u001b[0m\u001b[0m\n\u001b[0m\u001b[1;32m    587\u001b[0m             \u001b[0;32mexcept\u001b[0m \u001b[0mtimeout\u001b[0m\u001b[0;34m:\u001b[0m\u001b[0;34m\u001b[0m\u001b[0;34m\u001b[0m\u001b[0m\n\u001b[1;32m    588\u001b[0m                 \u001b[0mself\u001b[0m\u001b[0;34m.\u001b[0m\u001b[0m_timeout_occurred\u001b[0m \u001b[0;34m=\u001b[0m \u001b[0;32mTrue\u001b[0m\u001b[0;34m\u001b[0m\u001b[0;34m\u001b[0m\u001b[0m\n",
            "\u001b[0;32m/usr/lib/python3.6/ssl.py\u001b[0m in \u001b[0;36mrecv_into\u001b[0;34m(self, buffer, nbytes, flags)\u001b[0m\n\u001b[1;32m   1010\u001b[0m                   \u001b[0;34m\"non-zero flags not allowed in calls to recv_into() on %s\"\u001b[0m \u001b[0;34m%\u001b[0m\u001b[0;34m\u001b[0m\u001b[0;34m\u001b[0m\u001b[0m\n\u001b[1;32m   1011\u001b[0m                   self.__class__)\n\u001b[0;32m-> 1012\u001b[0;31m             \u001b[0;32mreturn\u001b[0m \u001b[0mself\u001b[0m\u001b[0;34m.\u001b[0m\u001b[0mread\u001b[0m\u001b[0;34m(\u001b[0m\u001b[0mnbytes\u001b[0m\u001b[0;34m,\u001b[0m \u001b[0mbuffer\u001b[0m\u001b[0;34m)\u001b[0m\u001b[0;34m\u001b[0m\u001b[0;34m\u001b[0m\u001b[0m\n\u001b[0m\u001b[1;32m   1013\u001b[0m         \u001b[0;32melse\u001b[0m\u001b[0;34m:\u001b[0m\u001b[0;34m\u001b[0m\u001b[0;34m\u001b[0m\u001b[0m\n\u001b[1;32m   1014\u001b[0m             \u001b[0;32mreturn\u001b[0m \u001b[0msocket\u001b[0m\u001b[0;34m.\u001b[0m\u001b[0mrecv_into\u001b[0m\u001b[0;34m(\u001b[0m\u001b[0mself\u001b[0m\u001b[0;34m,\u001b[0m \u001b[0mbuffer\u001b[0m\u001b[0;34m,\u001b[0m \u001b[0mnbytes\u001b[0m\u001b[0;34m,\u001b[0m \u001b[0mflags\u001b[0m\u001b[0;34m)\u001b[0m\u001b[0;34m\u001b[0m\u001b[0;34m\u001b[0m\u001b[0m\n",
            "\u001b[0;32m/usr/lib/python3.6/ssl.py\u001b[0m in \u001b[0;36mread\u001b[0;34m(self, len, buffer)\u001b[0m\n\u001b[1;32m    872\u001b[0m             \u001b[0;32mraise\u001b[0m \u001b[0mValueError\u001b[0m\u001b[0;34m(\u001b[0m\u001b[0;34m\"Read on closed or unwrapped SSL socket.\"\u001b[0m\u001b[0;34m)\u001b[0m\u001b[0;34m\u001b[0m\u001b[0;34m\u001b[0m\u001b[0m\n\u001b[1;32m    873\u001b[0m         \u001b[0;32mtry\u001b[0m\u001b[0;34m:\u001b[0m\u001b[0;34m\u001b[0m\u001b[0;34m\u001b[0m\u001b[0m\n\u001b[0;32m--> 874\u001b[0;31m             \u001b[0;32mreturn\u001b[0m \u001b[0mself\u001b[0m\u001b[0;34m.\u001b[0m\u001b[0m_sslobj\u001b[0m\u001b[0;34m.\u001b[0m\u001b[0mread\u001b[0m\u001b[0;34m(\u001b[0m\u001b[0mlen\u001b[0m\u001b[0;34m,\u001b[0m \u001b[0mbuffer\u001b[0m\u001b[0;34m)\u001b[0m\u001b[0;34m\u001b[0m\u001b[0;34m\u001b[0m\u001b[0m\n\u001b[0m\u001b[1;32m    875\u001b[0m         \u001b[0;32mexcept\u001b[0m \u001b[0mSSLError\u001b[0m \u001b[0;32mas\u001b[0m \u001b[0mx\u001b[0m\u001b[0;34m:\u001b[0m\u001b[0;34m\u001b[0m\u001b[0;34m\u001b[0m\u001b[0m\n\u001b[1;32m    876\u001b[0m             \u001b[0;32mif\u001b[0m \u001b[0mx\u001b[0m\u001b[0;34m.\u001b[0m\u001b[0margs\u001b[0m\u001b[0;34m[\u001b[0m\u001b[0;36m0\u001b[0m\u001b[0;34m]\u001b[0m \u001b[0;34m==\u001b[0m \u001b[0mSSL_ERROR_EOF\u001b[0m \u001b[0;32mand\u001b[0m \u001b[0mself\u001b[0m\u001b[0;34m.\u001b[0m\u001b[0msuppress_ragged_eofs\u001b[0m\u001b[0;34m:\u001b[0m\u001b[0;34m\u001b[0m\u001b[0;34m\u001b[0m\u001b[0m\n",
            "\u001b[0;32m/usr/lib/python3.6/ssl.py\u001b[0m in \u001b[0;36mread\u001b[0;34m(self, len, buffer)\u001b[0m\n\u001b[1;32m    629\u001b[0m         \"\"\"\n\u001b[1;32m    630\u001b[0m         \u001b[0;32mif\u001b[0m \u001b[0mbuffer\u001b[0m \u001b[0;32mis\u001b[0m \u001b[0;32mnot\u001b[0m \u001b[0;32mNone\u001b[0m\u001b[0;34m:\u001b[0m\u001b[0;34m\u001b[0m\u001b[0;34m\u001b[0m\u001b[0m\n\u001b[0;32m--> 631\u001b[0;31m             \u001b[0mv\u001b[0m \u001b[0;34m=\u001b[0m \u001b[0mself\u001b[0m\u001b[0;34m.\u001b[0m\u001b[0m_sslobj\u001b[0m\u001b[0;34m.\u001b[0m\u001b[0mread\u001b[0m\u001b[0;34m(\u001b[0m\u001b[0mlen\u001b[0m\u001b[0;34m,\u001b[0m \u001b[0mbuffer\u001b[0m\u001b[0;34m)\u001b[0m\u001b[0;34m\u001b[0m\u001b[0;34m\u001b[0m\u001b[0m\n\u001b[0m\u001b[1;32m    632\u001b[0m         \u001b[0;32melse\u001b[0m\u001b[0;34m:\u001b[0m\u001b[0;34m\u001b[0m\u001b[0;34m\u001b[0m\u001b[0m\n\u001b[1;32m    633\u001b[0m             \u001b[0mv\u001b[0m \u001b[0;34m=\u001b[0m \u001b[0mself\u001b[0m\u001b[0;34m.\u001b[0m\u001b[0m_sslobj\u001b[0m\u001b[0;34m.\u001b[0m\u001b[0mread\u001b[0m\u001b[0;34m(\u001b[0m\u001b[0mlen\u001b[0m\u001b[0;34m)\u001b[0m\u001b[0;34m\u001b[0m\u001b[0;34m\u001b[0m\u001b[0m\n",
            "\u001b[0;31mKeyboardInterrupt\u001b[0m: "
          ]
        }
      ]
    },
    {
      "cell_type": "code",
      "metadata": {
        "colab": {
          "base_uri": "https://localhost:8080/"
        },
        "id": "ZngioIEKGRoA",
        "outputId": "1a197e64-7dd8-42e5-d28d-0c6c80abfcb0"
      },
      "source": [
        "TRACK_TERM = 'dashcoin'\r\n",
        "r = api.request('search/tweets', {'q': TRACK_TERM})\r\n",
        "\r\n",
        "for items in r.get_iterator():\r\n",
        "  print(items['text'], items['id'] if 'text' in items else items)\r\n",
        "\r\n",
        "print('\\nQUOTA: %s' % r.get_quota())\r\n",
        "# with open(\"streamTweets.csv\",\"a\",encoding=\"utf-8\") as outfile:\r\n",
        "#   for item in r.get_iterator():\r\n",
        "#     line = item['text'] + ',' + str(item['id'])\r\n",
        "#     print(line if 'text' in item else item)\r\n",
        "#     outfile.write((repr(line) + '\\n') if 'text' in item else item)"
      ],
      "execution_count": 31,
      "outputs": [
        {
          "output_type": "stream",
          "text": [
            "$DASHUSD #dash #usd #dashcoin 1361661578232418304\n",
            "@cryptosfaucets Let's see what happens with this free roll...\n",
            "Go #BTC Go #ETH Go #dashcoin https://t.co/4klposM9cJ 1361660566071369736\n",
            "RT @MehdiBm84331475: Thanks so much to #dashcoin  i recieve 50$ free tip. 1361658882737790979\n",
            "Earn Some #Dashcoin through this Faucet! https://t.co/DVI5UqLRlj #DASH 1361647267338473476\n",
            "RT @Oldgodemo: https://t.co/h0l3BQeuKL\n",
            "👆👆\n",
            "Why is Dash Coin so underrated?,Look out,a breakout might be Happening Soon🚀🚀.\n",
            "#dashcoin #ALTSEAS… 1361643786716262412\n",
            "https://t.co/h0l3BQeuKL\n",
            "👆👆\n",
            "Why is Dash Coin so underrated?,Look out,a breakout might be Happening Soon🚀🚀.\n",
            "#dashcoin… https://t.co/U2muheu8Eo 1361642220827385858\n",
            "RT @___Altcoin__: #dashcoin let's go go 🚀🚀🚀🚀 1361629643284037632\n",
            "#dashcoin let's go go 🚀🚀🚀🚀 1361629615526203393\n",
            "$DASH is ready for next leg up! \n",
            "\n",
            "#dash #DASHto500 #dashcoin #Dashusd https://t.co/jn8fIPTdmY https://t.co/bTJ88Ra21I 1361616408593883147\n",
            "dash yorumumu isteyen vardı dash için önünde direnç tutmuyor akibeti bilinemez en fazla 298 noktalarına kadar çıkab… https://t.co/39MLXmkSLe 1361606565845942272\n",
            "Dash Technical Analysis For February 2021 – Latest Dash Price Prediction https://t.co/mCq96rHykd\n",
            "\n",
            "#dashcoin… https://t.co/1vKYZPuaVK 1361604168608145409\n",
            "@BezginBir @elonmusk #dashcoin\n",
            "Next target 420 shortly\n",
            "Next bitcoin\n",
            "Worth it to buy at cmp 1361596513109962757\n",
            "@boringcompany #dashcoin\n",
            "Next target 420 shortly\n",
            "Next bitcoin\n",
            "Worth it to buy at cmp 1361596447339147266\n",
            "@afortunetrading #dashcoin\n",
            "Next target 420 shortly\n",
            "Next bitcoin\n",
            "Worth it to buy at cmp 1361596344490631169\n",
            "@elonmusk #dashcoin\n",
            "Next target 420 shortly\n",
            "Next bitcoin\n",
            "Worth it to buy at cmp 1361596073928663041\n",
            "\n",
            "QUOTA: {'remaining': 177, 'limit': None, 'reset': None}\n"
          ],
          "name": "stdout"
        }
      ]
    },
    {
      "cell_type": "code",
      "metadata": {
        "colab": {
          "base_uri": "https://localhost:8080/"
        },
        "id": "DSZxGWjSKCSj",
        "outputId": "ee339313-b992-4428-89d7-55a7e18fb840"
      },
      "source": [
        "TwitterHandle = 'mittaldeepakiit'\r\n",
        "\r\n",
        "r = api.request('followers/list', {'screen_name': TwitterHandle})\r\n",
        "\r\n",
        "for item in r.get_iterator():\r\n",
        "    # item['screen_name'] = 'Dashpay'\r\n",
        "    # #item['location'] = 'India'\r\n",
        "    # item['name'] = 'Dash'\r\n",
        "    print(item,\"\\n\")\r\n",
        "\r\n",
        "print('\\nQUOTA: %s' % r.get_quota())\r\n"
      ],
      "execution_count": 42,
      "outputs": [
        {
          "output_type": "stream",
          "text": [
            "{'id': 995225049031364608, 'id_str': '995225049031364608', 'name': '', 'screen_name': 'FreeAirdropico1', 'location': '', 'description': '#Airdrop Get FREE 100 CPS Coin = $10 USD !\\n\\nRegistration link : \\n\\n💰👇🏾💰👇🏾💰👇🏾💰👇🏾', 'url': 'https://t.co/qvI4GEaC4K', 'entities': {'url': {'urls': [{'url': 'https://t.co/qvI4GEaC4K', 'expanded_url': 'https://www.coinpayments.net/index.php?ref=667e78e64ed5f723d5b3e2347b17cc8f', 'display_url': 'coinpayments.net/index.php?ref=…', 'indices': [0, 23]}]}, 'description': {'urls': []}}, 'protected': False, 'followers_count': 567, 'friends_count': 2994, 'listed_count': 1, 'created_at': 'Sat May 12 08:51:56 +0000 2018', 'favourites_count': 204, 'utc_offset': None, 'time_zone': None, 'geo_enabled': False, 'verified': False, 'statuses_count': 17, 'lang': None, 'status': {'created_at': 'Mon May 28 11:49:49 +0000 2018', 'id': 1001068019446091778, 'id_str': '1001068019446091778', 'text': '6\\nLink in bio 👆🏼👆🏼👆🏼\\n#Free #Airdrop #Airdrops #airdropalert #airdropstoken #airdropsignals #ico #makemoneyonline… https://t.co/YuCebQzN4g', 'truncated': True, 'entities': {'hashtags': [{'text': 'Free', 'indices': [21, 26]}, {'text': 'Airdrop', 'indices': [27, 35]}, {'text': 'Airdrops', 'indices': [36, 45]}, {'text': 'airdropalert', 'indices': [46, 59]}, {'text': 'airdropstoken', 'indices': [60, 74]}, {'text': 'airdropsignals', 'indices': [75, 90]}, {'text': 'ico', 'indices': [91, 95]}, {'text': 'makemoneyonline', 'indices': [96, 112]}], 'symbols': [], 'user_mentions': [], 'urls': [{'url': 'https://t.co/YuCebQzN4g', 'expanded_url': 'https://twitter.com/i/web/status/1001068019446091778', 'display_url': 'twitter.com/i/web/status/1…', 'indices': [114, 137]}]}, 'source': '<a href=\"https://mobile.twitter.com\" rel=\"nofollow\">Twitter Web App</a>', 'in_reply_to_status_id': None, 'in_reply_to_status_id_str': None, 'in_reply_to_user_id': None, 'in_reply_to_user_id_str': None, 'in_reply_to_screen_name': None, 'geo': None, 'coordinates': None, 'place': None, 'contributors': None, 'is_quote_status': False, 'retweet_count': 0, 'favorite_count': 2, 'favorited': False, 'retweeted': False, 'possibly_sensitive': False, 'lang': 'en'}, 'contributors_enabled': False, 'is_translator': False, 'is_translation_enabled': False, 'profile_background_color': 'C0DEED', 'profile_background_image_url': 'http://abs.twimg.com/images/themes/theme1/bg.png', 'profile_background_image_url_https': 'https://abs.twimg.com/images/themes/theme1/bg.png', 'profile_background_tile': False, 'profile_image_url': 'http://pbs.twimg.com/profile_images/995226018624389120/g67vNlgX_normal.jpg', 'profile_image_url_https': 'https://pbs.twimg.com/profile_images/995226018624389120/g67vNlgX_normal.jpg', 'profile_banner_url': 'https://pbs.twimg.com/profile_banners/995225049031364608/1526115350', 'profile_link_color': '1DA1F2', 'profile_sidebar_border_color': 'C0DEED', 'profile_sidebar_fill_color': 'DDEEF6', 'profile_text_color': '333333', 'profile_use_background_image': True, 'has_extended_profile': False, 'default_profile': True, 'default_profile_image': False, 'following': False, 'live_following': False, 'follow_request_sent': False, 'notifications': False, 'muting': False, 'blocking': False, 'blocked_by': False, 'translator_type': 'none'} \n",
            "\n",
            "{'id': 957962700666978304, 'id_str': '957962700666978304', 'name': 'vandemas', 'screen_name': 'Vandemas294', 'location': '', 'description': '', 'url': None, 'entities': {'description': {'urls': []}}, 'protected': False, 'followers_count': 181, 'friends_count': 1531, 'listed_count': 0, 'created_at': 'Mon Jan 29 13:04:40 +0000 2018', 'favourites_count': 31, 'utc_offset': None, 'time_zone': None, 'geo_enabled': False, 'verified': False, 'statuses_count': 98, 'lang': None, 'status': {'created_at': 'Wed Dec 23 09:08:38 +0000 2020', 'id': 1341672052349005824, 'id_str': '1341672052349005824', 'text': \"RT @binance: We're giving away 500 Christmas-themed NFTs on #BinanceSmartChain!\\n\\nTo enter all you have to do is retweet and follow two simp…\", 'truncated': False, 'entities': {'hashtags': [{'text': 'BinanceSmartChain', 'indices': [60, 78]}], 'symbols': [], 'user_mentions': [{'screen_name': 'binance', 'name': 'Binance', 'id': 877807935493033984, 'id_str': '877807935493033984', 'indices': [3, 11]}], 'urls': []}, 'source': '<a href=\"https://mobile.twitter.com\" rel=\"nofollow\">Twitter Web App</a>', 'in_reply_to_status_id': None, 'in_reply_to_status_id_str': None, 'in_reply_to_user_id': None, 'in_reply_to_user_id_str': None, 'in_reply_to_screen_name': None, 'geo': None, 'coordinates': None, 'place': None, 'contributors': None, 'retweeted_status': {'created_at': 'Sun Dec 13 10:38:48 +0000 2020', 'id': 1338070862730235905, 'id_str': '1338070862730235905', 'text': \"We're giving away 500 Christmas-themed NFTs on #BinanceSmartChain!\\n\\nTo enter all you have to do is retweet and foll… https://t.co/V8VJP4euVU\", 'truncated': True, 'entities': {'hashtags': [{'text': 'BinanceSmartChain', 'indices': [47, 65]}], 'symbols': [], 'user_mentions': [], 'urls': [{'url': 'https://t.co/V8VJP4euVU', 'expanded_url': 'https://twitter.com/i/web/status/1338070862730235905', 'display_url': 'twitter.com/i/web/status/1…', 'indices': [117, 140]}]}, 'source': '<a href=\"https://ads-api.twitter.com\" rel=\"nofollow\">Twitter for Advertisers (legacy)</a>', 'in_reply_to_status_id': None, 'in_reply_to_status_id_str': None, 'in_reply_to_user_id': None, 'in_reply_to_user_id_str': None, 'in_reply_to_screen_name': None, 'geo': None, 'coordinates': None, 'place': None, 'contributors': None, 'is_quote_status': False, 'retweet_count': 11710, 'favorite_count': 12284, 'favorited': False, 'retweeted': False, 'lang': 'en'}, 'is_quote_status': False, 'retweet_count': 11710, 'favorite_count': 0, 'favorited': False, 'retweeted': False, 'lang': 'en'}, 'contributors_enabled': False, 'is_translator': False, 'is_translation_enabled': False, 'profile_background_color': 'F5F8FA', 'profile_background_image_url': None, 'profile_background_image_url_https': None, 'profile_background_tile': False, 'profile_image_url': 'http://pbs.twimg.com/profile_images/962533918443384833/1a2ke5KN_normal.jpg', 'profile_image_url_https': 'https://pbs.twimg.com/profile_images/962533918443384833/1a2ke5KN_normal.jpg', 'profile_banner_url': 'https://pbs.twimg.com/profile_banners/957962700666978304/1518320932', 'profile_link_color': '1DA1F2', 'profile_sidebar_border_color': 'C0DEED', 'profile_sidebar_fill_color': 'DDEEF6', 'profile_text_color': '333333', 'profile_use_background_image': True, 'has_extended_profile': False, 'default_profile': True, 'default_profile_image': False, 'following': False, 'live_following': False, 'follow_request_sent': False, 'notifications': False, 'muting': False, 'blocking': False, 'blocked_by': False, 'translator_type': 'none'} \n",
            "\n",
            "{'id': 945345346531717121, 'id_str': '945345346531717121', 'name': 'Agro Tech Farm', 'screen_name': 'agro_tech_farm', 'location': 'Russia', 'description': 'AgroTechFarm is a fully automated intelligent equipment for industrial growing natural food in any region.', 'url': 'https://t.co/rHv4CmY7vT', 'entities': {'url': {'urls': [{'url': 'https://t.co/rHv4CmY7vT', 'expanded_url': 'https://www.agrotechfarm.com', 'display_url': 'agrotechfarm.com', 'indices': [0, 23]}]}, 'description': {'urls': []}}, 'protected': False, 'followers_count': 1484, 'friends_count': 3260, 'listed_count': 16, 'created_at': 'Mon Dec 25 17:27:49 +0000 2017', 'favourites_count': 877, 'utc_offset': None, 'time_zone': None, 'geo_enabled': True, 'verified': False, 'statuses_count': 605, 'lang': None, 'status': {'created_at': 'Thu Apr 09 11:48:26 +0000 2020', 'id': 1248216194592669696, 'id_str': '1248216194592669696', 'text': \"The world's first strawberry farm\\n using the aeroponics method\\n IN THE URALS WE GROW WINTER STRAWBERRY https://t.co/HRaZtnlv80\", 'truncated': False, 'entities': {'hashtags': [], 'symbols': [], 'user_mentions': [], 'urls': [], 'media': [{'id': 1248216179262386176, 'id_str': '1248216179262386176', 'indices': [103, 126], 'media_url': 'http://pbs.twimg.com/media/EVKOAG_UcAAi4RJ.jpg', 'media_url_https': 'https://pbs.twimg.com/media/EVKOAG_UcAAi4RJ.jpg', 'url': 'https://t.co/HRaZtnlv80', 'display_url': 'pic.twitter.com/HRaZtnlv80', 'expanded_url': 'https://twitter.com/agro_tech_farm/status/1248216194592669696/photo/1', 'type': 'photo', 'sizes': {'thumb': {'w': 150, 'h': 150, 'resize': 'crop'}, 'medium': {'w': 1200, 'h': 801, 'resize': 'fit'}, 'large': {'w': 2048, 'h': 1367, 'resize': 'fit'}, 'small': {'w': 680, 'h': 454, 'resize': 'fit'}}}]}, 'extended_entities': {'media': [{'id': 1248216179262386176, 'id_str': '1248216179262386176', 'indices': [103, 126], 'media_url': 'http://pbs.twimg.com/media/EVKOAG_UcAAi4RJ.jpg', 'media_url_https': 'https://pbs.twimg.com/media/EVKOAG_UcAAi4RJ.jpg', 'url': 'https://t.co/HRaZtnlv80', 'display_url': 'pic.twitter.com/HRaZtnlv80', 'expanded_url': 'https://twitter.com/agro_tech_farm/status/1248216194592669696/photo/1', 'type': 'photo', 'sizes': {'thumb': {'w': 150, 'h': 150, 'resize': 'crop'}, 'medium': {'w': 1200, 'h': 801, 'resize': 'fit'}, 'large': {'w': 2048, 'h': 1367, 'resize': 'fit'}, 'small': {'w': 680, 'h': 454, 'resize': 'fit'}}}]}, 'source': '<a href=\"http://twitter.com/download/iphone\" rel=\"nofollow\">Twitter for iPhone</a>', 'in_reply_to_status_id': None, 'in_reply_to_status_id_str': None, 'in_reply_to_user_id': None, 'in_reply_to_user_id_str': None, 'in_reply_to_screen_name': None, 'geo': None, 'coordinates': None, 'place': None, 'contributors': None, 'is_quote_status': False, 'retweet_count': 2, 'favorite_count': 2, 'favorited': False, 'retweeted': False, 'possibly_sensitive': False, 'lang': 'en'}, 'contributors_enabled': False, 'is_translator': False, 'is_translation_enabled': False, 'profile_background_color': '000000', 'profile_background_image_url': 'http://abs.twimg.com/images/themes/theme1/bg.png', 'profile_background_image_url_https': 'https://abs.twimg.com/images/themes/theme1/bg.png', 'profile_background_tile': False, 'profile_image_url': 'http://pbs.twimg.com/profile_images/1023199168511262721/n2VWpWdg_normal.jpg', 'profile_image_url_https': 'https://pbs.twimg.com/profile_images/1023199168511262721/n2VWpWdg_normal.jpg', 'profile_banner_url': 'https://pbs.twimg.com/profile_banners/945345346531717121/1550753585', 'profile_link_color': '19CF86', 'profile_sidebar_border_color': '000000', 'profile_sidebar_fill_color': '000000', 'profile_text_color': '000000', 'profile_use_background_image': False, 'has_extended_profile': False, 'default_profile': False, 'default_profile_image': False, 'following': False, 'live_following': False, 'follow_request_sent': False, 'notifications': False, 'muting': False, 'blocking': False, 'blocked_by': False, 'translator_type': 'none'} \n",
            "\n",
            "{'id': 3384212615, 'id_str': '3384212615', 'name': 'TheCryptoEnthusiast', 'screen_name': 'ugwucollins14', 'location': 'Nigeria', 'description': 'A cryptocurrency advocate &Enthusiast__A.K.A TheCryptoEthusiast.\\n\\nyou can follow me on YouTube \\nhttps://t.co/nI9xUri3v4', 'url': 'https://t.co/DTSYQoXl80', 'entities': {'url': {'urls': [{'url': 'https://t.co/DTSYQoXl80', 'expanded_url': 'https://steemit.com/@ugwucollins', 'display_url': 'steemit.com/@ugwucollins', 'indices': [0, 23]}]}, 'description': {'urls': [{'url': 'https://t.co/nI9xUri3v4', 'expanded_url': 'http://goo.gl/tY6wXd', 'display_url': 'goo.gl/tY6wXd', 'indices': [96, 119]}]}}, 'protected': False, 'followers_count': 750, 'friends_count': 2565, 'listed_count': 1, 'created_at': 'Mon Jul 20 07:18:08 +0000 2015', 'favourites_count': 765, 'utc_offset': None, 'time_zone': None, 'geo_enabled': False, 'verified': False, 'statuses_count': 727, 'lang': None, 'status': {'created_at': 'Sun Feb 14 17:25:27 +0000 2021', 'id': 1361003635484811271, 'id_str': '1361003635484811271', 'text': \"RT @JulSwap: We're proud to announce that $JUL &amp; $JulD are now available in the @coinbase price feed.\\n\\nThank you for adding us Coinbase Tea…\", 'truncated': False, 'entities': {'hashtags': [], 'symbols': [{'text': 'JUL', 'indices': [42, 46]}, {'text': 'JulD', 'indices': [53, 58]}], 'user_mentions': [{'screen_name': 'JulSwap', 'name': 'JulSwap DEX', 'id': 1319144790345371648, 'id_str': '1319144790345371648', 'indices': [3, 11]}, {'screen_name': 'coinbase', 'name': 'Coinbase', 'id': 574032254, 'id_str': '574032254', 'indices': [84, 93]}], 'urls': []}, 'source': '<a href=\"http://twitter.com/download/android\" rel=\"nofollow\">Twitter for Android</a>', 'in_reply_to_status_id': None, 'in_reply_to_status_id_str': None, 'in_reply_to_user_id': None, 'in_reply_to_user_id_str': None, 'in_reply_to_screen_name': None, 'geo': None, 'coordinates': None, 'place': None, 'contributors': None, 'retweeted_status': {'created_at': 'Sun Feb 14 09:35:25 +0000 2021', 'id': 1360885346620309505, 'id_str': '1360885346620309505', 'text': \"We're proud to announce that $JUL &amp; $JulD are now available in the @coinbase price feed.\\n\\nThank you for adding us C… https://t.co/n8fOPzc1Oy\", 'truncated': True, 'entities': {'hashtags': [], 'symbols': [{'text': 'JUL', 'indices': [29, 33]}, {'text': 'JulD', 'indices': [40, 45]}], 'user_mentions': [{'screen_name': 'coinbase', 'name': 'Coinbase', 'id': 574032254, 'id_str': '574032254', 'indices': [71, 80]}], 'urls': [{'url': 'https://t.co/n8fOPzc1Oy', 'expanded_url': 'https://twitter.com/i/web/status/1360885346620309505', 'display_url': 'twitter.com/i/web/status/1…', 'indices': [121, 144]}]}, 'source': '<a href=\"http://twitter.com/download/iphone\" rel=\"nofollow\">Twitter for iPhone</a>', 'in_reply_to_status_id': None, 'in_reply_to_status_id_str': None, 'in_reply_to_user_id': None, 'in_reply_to_user_id_str': None, 'in_reply_to_screen_name': None, 'geo': None, 'coordinates': None, 'place': None, 'contributors': None, 'is_quote_status': False, 'retweet_count': 305, 'favorite_count': 957, 'favorited': False, 'retweeted': False, 'possibly_sensitive': False, 'lang': 'en'}, 'is_quote_status': False, 'retweet_count': 305, 'favorite_count': 0, 'favorited': False, 'retweeted': False, 'lang': 'en'}, 'contributors_enabled': False, 'is_translator': False, 'is_translation_enabled': False, 'profile_background_color': 'C0DEED', 'profile_background_image_url': 'http://abs.twimg.com/images/themes/theme1/bg.png', 'profile_background_image_url_https': 'https://abs.twimg.com/images/themes/theme1/bg.png', 'profile_background_tile': False, 'profile_image_url': 'http://pbs.twimg.com/profile_images/1344791522563264512/ErtNxJcP_normal.jpg', 'profile_image_url_https': 'https://pbs.twimg.com/profile_images/1344791522563264512/ErtNxJcP_normal.jpg', 'profile_banner_url': 'https://pbs.twimg.com/profile_banners/3384212615/1545816992', 'profile_link_color': '1DA1F2', 'profile_sidebar_border_color': 'C0DEED', 'profile_sidebar_fill_color': 'DDEEF6', 'profile_text_color': '333333', 'profile_use_background_image': True, 'has_extended_profile': True, 'default_profile': True, 'default_profile_image': False, 'following': False, 'live_following': False, 'follow_request_sent': False, 'notifications': False, 'muting': False, 'blocking': False, 'blocked_by': False, 'translator_type': 'none'} \n",
            "\n",
            "{'id': 1537478390, 'id_str': '1537478390', 'name': 'Coach Jovan Haye', 'screen_name': 'jovanhaye', 'location': 'Nashville, TN', 'description': 'DE Coach @VandyFootball | Vandy Alum | 🇯🇲 Florida Boy | NUPE | Retired @nfl DT | Heartbeats & Habits #VandyUnited | #AnchorDown | #NextExitCashvilleTN', 'url': 'https://t.co/xoor3Y32pd', 'entities': {'url': {'urls': [{'url': 'https://t.co/xoor3Y32pd', 'expanded_url': 'http://www.vucommodores.com', 'display_url': 'vucommodores.com', 'indices': [0, 23]}]}, 'description': {'urls': []}}, 'protected': False, 'followers_count': 124592, 'friends_count': 84217, 'listed_count': 473, 'created_at': 'Fri Jun 21 22:38:54 +0000 2013', 'favourites_count': 13057, 'utc_offset': None, 'time_zone': None, 'geo_enabled': True, 'verified': True, 'statuses_count': 3370, 'lang': None, 'status': {'created_at': 'Tue Feb 16 01:29:13 +0000 2021', 'id': 1361487766979284992, 'id_str': '1361487766979284992', 'text': 'RT @VandyFootball: Continuing the journey and running the race.\\n\\n#AnchorDown https://t.co/ceBB66bGWY', 'truncated': False, 'entities': {'hashtags': [{'text': 'AnchorDown', 'indices': [65, 76]}], 'symbols': [], 'user_mentions': [{'screen_name': 'VandyFootball', 'name': 'Vanderbilt Football', 'id': 18216020, 'id_str': '18216020', 'indices': [3, 17]}], 'urls': [], 'media': [{'id': 1361438536881168384, 'id_str': '1361438536881168384', 'indices': [77, 100], 'media_url': 'http://pbs.twimg.com/amplify_video_thumb/1361438536881168384/img/fqdn7K7YI8khnZC6.jpg', 'media_url_https': 'https://pbs.twimg.com/amplify_video_thumb/1361438536881168384/img/fqdn7K7YI8khnZC6.jpg', 'url': 'https://t.co/ceBB66bGWY', 'display_url': 'pic.twitter.com/ceBB66bGWY', 'expanded_url': 'https://twitter.com/VandyFootball/status/1361485446358831105/video/1', 'type': 'photo', 'sizes': {'thumb': {'w': 150, 'h': 150, 'resize': 'crop'}, 'medium': {'w': 1200, 'h': 675, 'resize': 'fit'}, 'small': {'w': 680, 'h': 383, 'resize': 'fit'}, 'large': {'w': 1280, 'h': 720, 'resize': 'fit'}}, 'source_status_id': 1361485446358831105, 'source_status_id_str': '1361485446358831105', 'source_user_id': 18216020, 'source_user_id_str': '18216020'}]}, 'extended_entities': {'media': [{'id': 1361438536881168384, 'id_str': '1361438536881168384', 'indices': [77, 100], 'media_url': 'http://pbs.twimg.com/amplify_video_thumb/1361438536881168384/img/fqdn7K7YI8khnZC6.jpg', 'media_url_https': 'https://pbs.twimg.com/amplify_video_thumb/1361438536881168384/img/fqdn7K7YI8khnZC6.jpg', 'url': 'https://t.co/ceBB66bGWY', 'display_url': 'pic.twitter.com/ceBB66bGWY', 'expanded_url': 'https://twitter.com/VandyFootball/status/1361485446358831105/video/1', 'type': 'video', 'sizes': {'thumb': {'w': 150, 'h': 150, 'resize': 'crop'}, 'medium': {'w': 1200, 'h': 675, 'resize': 'fit'}, 'small': {'w': 680, 'h': 383, 'resize': 'fit'}, 'large': {'w': 1280, 'h': 720, 'resize': 'fit'}}, 'source_status_id': 1361485446358831105, 'source_status_id_str': '1361485446358831105', 'source_user_id': 18216020, 'source_user_id_str': '18216020', 'video_info': {'aspect_ratio': [16, 9], 'duration_millis': 43740, 'variants': [{'content_type': 'application/x-mpegURL', 'url': 'https://video.twimg.com/amplify_video/1361438536881168384/pl/NSGD3s3obD7mM0pj.m3u8?tag=13'}, {'bitrate': 832000, 'content_type': 'video/mp4', 'url': 'https://video.twimg.com/amplify_video/1361438536881168384/vid/640x360/n--LYvaJ63D-Qsdv.mp4?tag=13'}, {'bitrate': 288000, 'content_type': 'video/mp4', 'url': 'https://video.twimg.com/amplify_video/1361438536881168384/vid/480x270/SY90qtfytdKMv0lH.mp4?tag=13'}, {'bitrate': 2176000, 'content_type': 'video/mp4', 'url': 'https://video.twimg.com/amplify_video/1361438536881168384/vid/1280x720/U2k-pZp630A5rtHS.mp4?tag=13'}]}, 'additional_media_info': {'title': '', 'description': '', 'embeddable': True, 'monetizable': False}}]}, 'source': '<a href=\"http://twitter.com/download/iphone\" rel=\"nofollow\">Twitter for iPhone</a>', 'in_reply_to_status_id': None, 'in_reply_to_status_id_str': None, 'in_reply_to_user_id': None, 'in_reply_to_user_id_str': None, 'in_reply_to_screen_name': None, 'geo': None, 'coordinates': None, 'place': None, 'contributors': None, 'retweeted_status': {'created_at': 'Tue Feb 16 01:20:00 +0000 2021', 'id': 1361485446358831105, 'id_str': '1361485446358831105', 'text': 'Continuing the journey and running the race.\\n\\n#AnchorDown https://t.co/ceBB66bGWY', 'truncated': False, 'entities': {'hashtags': [{'text': 'AnchorDown', 'indices': [46, 57]}], 'symbols': [], 'user_mentions': [], 'urls': [], 'media': [{'id': 1361438536881168384, 'id_str': '1361438536881168384', 'indices': [58, 81], 'media_url': 'http://pbs.twimg.com/amplify_video_thumb/1361438536881168384/img/fqdn7K7YI8khnZC6.jpg', 'media_url_https': 'https://pbs.twimg.com/amplify_video_thumb/1361438536881168384/img/fqdn7K7YI8khnZC6.jpg', 'url': 'https://t.co/ceBB66bGWY', 'display_url': 'pic.twitter.com/ceBB66bGWY', 'expanded_url': 'https://twitter.com/VandyFootball/status/1361485446358831105/video/1', 'type': 'photo', 'sizes': {'thumb': {'w': 150, 'h': 150, 'resize': 'crop'}, 'medium': {'w': 1200, 'h': 675, 'resize': 'fit'}, 'small': {'w': 680, 'h': 383, 'resize': 'fit'}, 'large': {'w': 1280, 'h': 720, 'resize': 'fit'}}}]}, 'extended_entities': {'media': [{'id': 1361438536881168384, 'id_str': '1361438536881168384', 'indices': [58, 81], 'media_url': 'http://pbs.twimg.com/amplify_video_thumb/1361438536881168384/img/fqdn7K7YI8khnZC6.jpg', 'media_url_https': 'https://pbs.twimg.com/amplify_video_thumb/1361438536881168384/img/fqdn7K7YI8khnZC6.jpg', 'url': 'https://t.co/ceBB66bGWY', 'display_url': 'pic.twitter.com/ceBB66bGWY', 'expanded_url': 'https://twitter.com/VandyFootball/status/1361485446358831105/video/1', 'type': 'video', 'sizes': {'thumb': {'w': 150, 'h': 150, 'resize': 'crop'}, 'medium': {'w': 1200, 'h': 675, 'resize': 'fit'}, 'small': {'w': 680, 'h': 383, 'resize': 'fit'}, 'large': {'w': 1280, 'h': 720, 'resize': 'fit'}}, 'video_info': {'aspect_ratio': [16, 9], 'duration_millis': 43740, 'variants': [{'content_type': 'application/x-mpegURL', 'url': 'https://video.twimg.com/amplify_video/1361438536881168384/pl/NSGD3s3obD7mM0pj.m3u8?tag=13'}, {'bitrate': 832000, 'content_type': 'video/mp4', 'url': 'https://video.twimg.com/amplify_video/1361438536881168384/vid/640x360/n--LYvaJ63D-Qsdv.mp4?tag=13'}, {'bitrate': 288000, 'content_type': 'video/mp4', 'url': 'https://video.twimg.com/amplify_video/1361438536881168384/vid/480x270/SY90qtfytdKMv0lH.mp4?tag=13'}, {'bitrate': 2176000, 'content_type': 'video/mp4', 'url': 'https://video.twimg.com/amplify_video/1361438536881168384/vid/1280x720/U2k-pZp630A5rtHS.mp4?tag=13'}]}, 'additional_media_info': {'title': '', 'description': '', 'embeddable': True, 'monetizable': False}}]}, 'source': '<a href=\"https://studio.twitter.com\" rel=\"nofollow\">Twitter Media Studio</a>', 'in_reply_to_status_id': None, 'in_reply_to_status_id_str': None, 'in_reply_to_user_id': None, 'in_reply_to_user_id_str': None, 'in_reply_to_screen_name': None, 'geo': None, 'coordinates': None, 'place': None, 'contributors': None, 'is_quote_status': False, 'retweet_count': 14, 'favorite_count': 153, 'favorited': False, 'retweeted': False, 'possibly_sensitive': False, 'lang': 'en'}, 'is_quote_status': False, 'retweet_count': 14, 'favorite_count': 0, 'favorited': False, 'retweeted': False, 'possibly_sensitive': False, 'lang': 'en'}, 'contributors_enabled': False, 'is_translator': False, 'is_translation_enabled': False, 'profile_background_color': 'C0DEED', 'profile_background_image_url': 'http://abs.twimg.com/images/themes/theme1/bg.png', 'profile_background_image_url_https': 'https://abs.twimg.com/images/themes/theme1/bg.png', 'profile_background_tile': False, 'profile_image_url': 'http://pbs.twimg.com/profile_images/1349807703615537156/xS-MYFuk_normal.jpg', 'profile_image_url_https': 'https://pbs.twimg.com/profile_images/1349807703615537156/xS-MYFuk_normal.jpg', 'profile_banner_url': 'https://pbs.twimg.com/profile_banners/1537478390/1610654096', 'profile_link_color': '1DA1F2', 'profile_sidebar_border_color': 'C0DEED', 'profile_sidebar_fill_color': 'DDEEF6', 'profile_text_color': '333333', 'profile_use_background_image': True, 'has_extended_profile': True, 'default_profile': True, 'default_profile_image': False, 'following': False, 'live_following': False, 'follow_request_sent': False, 'notifications': False, 'muting': False, 'blocking': False, 'blocked_by': False, 'translator_type': 'regular'} \n",
            "\n",
            "{'id': 112214453, 'id_str': '112214453', 'name': 'b151291', 'screen_name': 'b151291', 'location': 'Ranchi, India', 'description': '', 'url': None, 'entities': {'description': {'urls': []}}, 'protected': False, 'followers_count': 78, 'friends_count': 129, 'listed_count': 3, 'created_at': 'Sun Feb 07 17:15:03 +0000 2010', 'favourites_count': 0, 'utc_offset': None, 'time_zone': None, 'geo_enabled': True, 'verified': False, 'statuses_count': 63, 'lang': None, 'status': {'created_at': 'Fri Jun 12 02:26:17 +0000 2020', 'id': 1271267551264161798, 'id_str': '1271267551264161798', 'text': '@BSYBJP request you to let schools collect fee with online classes from student otherwise unemployment may go up. T… https://t.co/Yq6jbFh2aa', 'truncated': True, 'entities': {'hashtags': [], 'symbols': [], 'user_mentions': [{'screen_name': 'BSYBJP', 'name': 'B.S. Yediyurappa', 'id': 54936590, 'id_str': '54936590', 'indices': [0, 7]}], 'urls': [{'url': 'https://t.co/Yq6jbFh2aa', 'expanded_url': 'https://twitter.com/i/web/status/1271267551264161798', 'display_url': 'twitter.com/i/web/status/1…', 'indices': [117, 140]}]}, 'source': '<a href=\"http://twitter.com/download/iphone\" rel=\"nofollow\">Twitter for iPhone</a>', 'in_reply_to_status_id': None, 'in_reply_to_status_id_str': None, 'in_reply_to_user_id': 54936590, 'in_reply_to_user_id_str': '54936590', 'in_reply_to_screen_name': 'BSYBJP', 'geo': None, 'coordinates': None, 'place': None, 'contributors': None, 'is_quote_status': False, 'retweet_count': 0, 'favorite_count': 0, 'favorited': False, 'retweeted': False, 'lang': 'en'}, 'contributors_enabled': False, 'is_translator': False, 'is_translation_enabled': False, 'profile_background_color': 'C0DEED', 'profile_background_image_url': 'http://abs.twimg.com/images/themes/theme1/bg.png', 'profile_background_image_url_https': 'https://abs.twimg.com/images/themes/theme1/bg.png', 'profile_background_tile': False, 'profile_image_url': 'http://pbs.twimg.com/profile_images/701373439429312512/fPpA4Jan_normal.jpg', 'profile_image_url_https': 'https://pbs.twimg.com/profile_images/701373439429312512/fPpA4Jan_normal.jpg', 'profile_link_color': '1DA1F2', 'profile_sidebar_border_color': 'C0DEED', 'profile_sidebar_fill_color': 'DDEEF6', 'profile_text_color': '333333', 'profile_use_background_image': True, 'has_extended_profile': True, 'default_profile': True, 'default_profile_image': False, 'following': False, 'live_following': False, 'follow_request_sent': False, 'notifications': False, 'muting': False, 'blocking': False, 'blocked_by': False, 'translator_type': 'none'} \n",
            "\n",
            "{'id': 28153052, 'id_str': '28153052', 'name': 'kshama', 'screen_name': 'kshism', 'location': '', 'description': '', 'url': None, 'entities': {'description': {'urls': []}}, 'protected': False, 'followers_count': 88, 'friends_count': 223, 'listed_count': 1, 'created_at': 'Wed Apr 01 17:46:55 +0000 2009', 'favourites_count': 48, 'utc_offset': None, 'time_zone': None, 'geo_enabled': False, 'verified': False, 'statuses_count': 57, 'lang': None, 'status': {'created_at': 'Sun Feb 14 06:31:21 +0000 2021', 'id': 1360839026626846720, 'id_str': '1360839026626846720', 'text': 'RT @ms_rashu: @kshism @myntra I was sent an empty packet and asking for unboxing .....I am fed up of asking for help .....I have lodged onl…', 'truncated': False, 'entities': {'hashtags': [], 'symbols': [], 'user_mentions': [{'screen_name': 'ms_rashu', 'name': 'rashmi', 'id': 1324367779, 'id_str': '1324367779', 'indices': [3, 12]}, {'screen_name': 'kshism', 'name': 'kshama', 'id': 28153052, 'id_str': '28153052', 'indices': [14, 21]}, {'screen_name': 'myntra', 'name': 'Myntra', 'id': 89443197, 'id_str': '89443197', 'indices': [22, 29]}], 'urls': []}, 'source': '<a href=\"http://twitter.com/download/android\" rel=\"nofollow\">Twitter for Android</a>', 'in_reply_to_status_id': None, 'in_reply_to_status_id_str': None, 'in_reply_to_user_id': None, 'in_reply_to_user_id_str': None, 'in_reply_to_screen_name': None, 'geo': None, 'coordinates': None, 'place': None, 'contributors': None, 'retweeted_status': {'created_at': 'Sat Feb 13 15:59:37 +0000 2021', 'id': 1360619645326135299, 'id_str': '1360619645326135299', 'text': '@kshism @myntra I was sent an empty packet and asking for unboxing .....I am fed up of asking for help .....I have… https://t.co/sbxpcI8NzM', 'truncated': True, 'entities': {'hashtags': [], 'symbols': [], 'user_mentions': [{'screen_name': 'kshism', 'name': 'kshama', 'id': 28153052, 'id_str': '28153052', 'indices': [0, 7]}, {'screen_name': 'myntra', 'name': 'Myntra', 'id': 89443197, 'id_str': '89443197', 'indices': [8, 15]}], 'urls': [{'url': 'https://t.co/sbxpcI8NzM', 'expanded_url': 'https://twitter.com/i/web/status/1360619645326135299', 'display_url': 'twitter.com/i/web/status/1…', 'indices': [116, 139]}]}, 'source': '<a href=\"http://twitter.com/download/android\" rel=\"nofollow\">Twitter for Android</a>', 'in_reply_to_status_id': 1360599174169829378, 'in_reply_to_status_id_str': '1360599174169829378', 'in_reply_to_user_id': 28153052, 'in_reply_to_user_id_str': '28153052', 'in_reply_to_screen_name': 'kshism', 'geo': None, 'coordinates': None, 'place': None, 'contributors': None, 'is_quote_status': False, 'retweet_count': 1, 'favorite_count': 0, 'favorited': False, 'retweeted': False, 'lang': 'en'}, 'is_quote_status': False, 'retweet_count': 1, 'favorite_count': 0, 'favorited': False, 'retweeted': False, 'lang': 'en'}, 'contributors_enabled': False, 'is_translator': False, 'is_translation_enabled': False, 'profile_background_color': 'C0DEED', 'profile_background_image_url': 'http://abs.twimg.com/images/themes/theme1/bg.png', 'profile_background_image_url_https': 'https://abs.twimg.com/images/themes/theme1/bg.png', 'profile_background_tile': False, 'profile_image_url': 'http://pbs.twimg.com/profile_images/1112400576619470849/uQTAdpEd_normal.png', 'profile_image_url_https': 'https://pbs.twimg.com/profile_images/1112400576619470849/uQTAdpEd_normal.png', 'profile_link_color': '1DA1F2', 'profile_sidebar_border_color': 'C0DEED', 'profile_sidebar_fill_color': 'DDEEF6', 'profile_text_color': '333333', 'profile_use_background_image': True, 'has_extended_profile': False, 'default_profile': True, 'default_profile_image': False, 'following': False, 'live_following': False, 'follow_request_sent': False, 'notifications': False, 'muting': False, 'blocking': False, 'blocked_by': False, 'translator_type': 'none'} \n",
            "\n",
            "{'id': 75066462, 'id_str': '75066462', 'name': 'ravi yadav', 'screen_name': 'ravipyadav', 'location': '', 'description': '', 'url': None, 'entities': {'description': {'urls': []}}, 'protected': False, 'followers_count': 36, 'friends_count': 40, 'listed_count': 2, 'created_at': 'Thu Sep 17 17:32:49 +0000 2009', 'favourites_count': 5, 'utc_offset': None, 'time_zone': None, 'geo_enabled': False, 'verified': False, 'statuses_count': 3, 'lang': None, 'status': {'created_at': 'Wed Sep 18 15:37:44 +0000 2019', 'id': 1174346778264498176, 'id_str': '1174346778264498176', 'text': 'RT @Abinash70501134: #Day29 DAST Tales: Adopt a Street Initiative @BBMPCOMM good to see such plan..but wat abt the roads where ppl r alread…', 'truncated': False, 'entities': {'hashtags': [{'text': 'Day29', 'indices': [21, 27]}], 'symbols': [], 'user_mentions': [{'screen_name': 'Abinash70501134', 'name': 'Abinash', 'id': 1150771602902020096, 'id_str': '1150771602902020096', 'indices': [3, 19]}, {'screen_name': 'BBMPCOMM', 'name': 'N. Manjunatha Prasad,IAS', 'id': 4345658112, 'id_str': '4345658112', 'indices': [66, 75]}], 'urls': []}, 'source': '<a href=\"http://twitter.com/download/android\" rel=\"nofollow\">Twitter for Android</a>', 'in_reply_to_status_id': None, 'in_reply_to_status_id_str': None, 'in_reply_to_user_id': None, 'in_reply_to_user_id_str': None, 'in_reply_to_screen_name': None, 'geo': None, 'coordinates': None, 'place': None, 'contributors': None, 'retweeted_status': {'created_at': 'Wed Sep 18 11:32:41 +0000 2019', 'id': 1174285108779466752, 'id_str': '1174285108779466752', 'text': '#Day29 DAST Tales: Adopt a Street Initiative @BBMPCOMM good to see such plan..but wat abt the roads where ppl r alr… https://t.co/AeMw3goDYq', 'truncated': True, 'entities': {'hashtags': [{'text': 'Day29', 'indices': [0, 6]}], 'symbols': [], 'user_mentions': [{'screen_name': 'BBMPCOMM', 'name': 'N. Manjunatha Prasad,IAS', 'id': 4345658112, 'id_str': '4345658112', 'indices': [45, 54]}], 'urls': [{'url': 'https://t.co/AeMw3goDYq', 'expanded_url': 'https://twitter.com/i/web/status/1174285108779466752', 'display_url': 'twitter.com/i/web/status/1…', 'indices': [117, 140]}]}, 'source': '<a href=\"http://twitter.com/download/android\" rel=\"nofollow\">Twitter for Android</a>', 'in_reply_to_status_id': None, 'in_reply_to_status_id_str': None, 'in_reply_to_user_id': None, 'in_reply_to_user_id_str': None, 'in_reply_to_screen_name': None, 'geo': None, 'coordinates': None, 'place': {'id': '5f55bb82cf16ac81', 'url': 'https://api.twitter.com/1.1/geo/id/5f55bb82cf16ac81.json', 'place_type': 'city', 'name': 'Bengaluru South', 'full_name': 'Bengaluru South, India', 'country_code': 'IN', 'country': 'India', 'contained_within': [], 'bounding_box': {'type': 'Polygon', 'coordinates': [[[77.3305776, 12.731936], [77.7863188, 12.731936], [77.7863188, 13.1142933], [77.3305776, 13.1142933]]]}, 'attributes': {}}, 'contributors': None, 'is_quote_status': True, 'quoted_status_id': 1174275124670812160, 'quoted_status_id_str': '1174275124670812160', 'retweet_count': 83, 'favorite_count': 22, 'favorited': False, 'retweeted': False, 'possibly_sensitive': False, 'lang': 'en'}, 'is_quote_status': True, 'quoted_status_id': 1174275124670812160, 'quoted_status_id_str': '1174275124670812160', 'retweet_count': 83, 'favorite_count': 0, 'favorited': False, 'retweeted': False, 'lang': 'en'}, 'contributors_enabled': False, 'is_translator': False, 'is_translation_enabled': False, 'profile_background_color': 'C0DEED', 'profile_background_image_url': 'http://abs.twimg.com/images/themes/theme1/bg.png', 'profile_background_image_url_https': 'https://abs.twimg.com/images/themes/theme1/bg.png', 'profile_background_tile': False, 'profile_image_url': 'http://abs.twimg.com/sticky/default_profile_images/default_profile_normal.png', 'profile_image_url_https': 'https://abs.twimg.com/sticky/default_profile_images/default_profile_normal.png', 'profile_link_color': '1DA1F2', 'profile_sidebar_border_color': 'C0DEED', 'profile_sidebar_fill_color': 'DDEEF6', 'profile_text_color': '333333', 'profile_use_background_image': True, 'has_extended_profile': False, 'default_profile': True, 'default_profile_image': True, 'following': False, 'live_following': False, 'follow_request_sent': False, 'notifications': False, 'muting': False, 'blocking': False, 'blocked_by': False, 'translator_type': 'none'} \n",
            "\n",
            "{'id': 69047674, 'id_str': '69047674', 'name': 'Saumya Chaki', 'screen_name': 'saumyachaki', 'location': 'Kolkata', 'description': 'Geologist by education, Information Consultant by profession, dreamer by habit, writer by chance', 'url': 'http://t.co/CL4Mcjb9OE', 'entities': {'url': {'urls': [{'url': 'http://t.co/CL4Mcjb9OE', 'expanded_url': 'http://www.saumyachaki.blogspot.com', 'display_url': 'saumyachaki.blogspot.com', 'indices': [0, 22]}]}, 'description': {'urls': []}}, 'protected': False, 'followers_count': 179, 'friends_count': 635, 'listed_count': 43, 'created_at': 'Wed Aug 26 17:55:30 +0000 2009', 'favourites_count': 682, 'utc_offset': None, 'time_zone': None, 'geo_enabled': False, 'verified': False, 'statuses_count': 1362, 'lang': None, 'status': {'created_at': 'Wed Jul 22 10:54:39 +0000 2020', 'id': 1285890997059231744, 'id_str': '1285890997059231744', 'text': 'How the #Media industry has #transformed using #Digital technologies, check out my article for @cioandleader -… https://t.co/tepGnyCSLO', 'truncated': True, 'entities': {'hashtags': [{'text': 'Media', 'indices': [8, 14]}, {'text': 'transformed', 'indices': [28, 40]}, {'text': 'Digital', 'indices': [47, 55]}], 'symbols': [], 'user_mentions': [{'screen_name': 'cioandleader', 'name': 'CIO&Leader', 'id': 63384137, 'id_str': '63384137', 'indices': [95, 108]}], 'urls': [{'url': 'https://t.co/tepGnyCSLO', 'expanded_url': 'https://twitter.com/i/web/status/1285890997059231744', 'display_url': 'twitter.com/i/web/status/1…', 'indices': [112, 135]}]}, 'source': '<a href=\"https://mobile.twitter.com\" rel=\"nofollow\">Twitter Web App</a>', 'in_reply_to_status_id': None, 'in_reply_to_status_id_str': None, 'in_reply_to_user_id': None, 'in_reply_to_user_id_str': None, 'in_reply_to_screen_name': None, 'geo': None, 'coordinates': None, 'place': None, 'contributors': None, 'is_quote_status': False, 'retweet_count': 2, 'favorite_count': 3, 'favorited': False, 'retweeted': False, 'possibly_sensitive': False, 'lang': 'en'}, 'contributors_enabled': False, 'is_translator': False, 'is_translation_enabled': False, 'profile_background_color': '000000', 'profile_background_image_url': 'http://abs.twimg.com/images/themes/theme1/bg.png', 'profile_background_image_url_https': 'https://abs.twimg.com/images/themes/theme1/bg.png', 'profile_background_tile': False, 'profile_image_url': 'http://pbs.twimg.com/profile_images/600142146369269760/XZF-T5n__normal.jpg', 'profile_image_url_https': 'https://pbs.twimg.com/profile_images/600142146369269760/XZF-T5n__normal.jpg', 'profile_banner_url': 'https://pbs.twimg.com/profile_banners/69047674/1431920082', 'profile_link_color': '3B94D9', 'profile_sidebar_border_color': '000000', 'profile_sidebar_fill_color': '000000', 'profile_text_color': '000000', 'profile_use_background_image': False, 'has_extended_profile': False, 'default_profile': False, 'default_profile_image': False, 'following': False, 'live_following': False, 'follow_request_sent': False, 'notifications': False, 'muting': False, 'blocking': False, 'blocked_by': False, 'translator_type': 'none'} \n",
            "\n",
            "{'id': 67537160, 'id_str': '67537160', 'name': 'Navin Bansal', 'screen_name': 'smile4nu', 'location': 'Bengaluru South, Karnataka', 'description': '', 'url': None, 'entities': {'description': {'urls': []}}, 'protected': False, 'followers_count': 165, 'friends_count': 515, 'listed_count': 0, 'created_at': 'Fri Aug 21 05:42:35 +0000 2009', 'favourites_count': 203, 'utc_offset': None, 'time_zone': None, 'geo_enabled': True, 'verified': False, 'statuses_count': 215, 'lang': None, 'status': {'created_at': 'Sun Feb 07 09:13:17 +0000 2021', 'id': 1358343061969903617, 'id_str': '1358343061969903617', 'text': '@INCIndia As per the data on Government site. it’s 4.9 % for Feb2021 in UP. Can you please share Rajasthan… https://t.co/ktudNEbkDt', 'truncated': True, 'entities': {'hashtags': [], 'symbols': [], 'user_mentions': [{'screen_name': 'INCIndia', 'name': 'Congress', 'id': 1153045459, 'id_str': '1153045459', 'indices': [0, 9]}], 'urls': [{'url': 'https://t.co/ktudNEbkDt', 'expanded_url': 'https://twitter.com/i/web/status/1358343061969903617', 'display_url': 'twitter.com/i/web/status/1…', 'indices': [108, 131]}]}, 'source': '<a href=\"http://twitter.com/download/iphone\" rel=\"nofollow\">Twitter for iPhone</a>', 'in_reply_to_status_id': 1358294792828973057, 'in_reply_to_status_id_str': '1358294792828973057', 'in_reply_to_user_id': 1153045459, 'in_reply_to_user_id_str': '1153045459', 'in_reply_to_screen_name': 'INCIndia', 'geo': None, 'coordinates': None, 'place': None, 'contributors': None, 'is_quote_status': False, 'retweet_count': 0, 'favorite_count': 0, 'favorited': False, 'retweeted': False, 'lang': 'en'}, 'contributors_enabled': False, 'is_translator': False, 'is_translation_enabled': False, 'profile_background_color': '1A1B1F', 'profile_background_image_url': 'http://abs.twimg.com/images/themes/theme9/bg.gif', 'profile_background_image_url_https': 'https://abs.twimg.com/images/themes/theme9/bg.gif', 'profile_background_tile': True, 'profile_image_url': 'http://pbs.twimg.com/profile_images/2761269593/6a1523b686d1b0df2f90e97221910735_normal.png', 'profile_image_url_https': 'https://pbs.twimg.com/profile_images/2761269593/6a1523b686d1b0df2f90e97221910735_normal.png', 'profile_banner_url': 'https://pbs.twimg.com/profile_banners/67537160/1351136822', 'profile_link_color': '2FC2EF', 'profile_sidebar_border_color': 'FFFFFF', 'profile_sidebar_fill_color': '252429', 'profile_text_color': '666666', 'profile_use_background_image': True, 'has_extended_profile': True, 'default_profile': False, 'default_profile_image': False, 'following': False, 'live_following': False, 'follow_request_sent': False, 'notifications': False, 'muting': False, 'blocking': False, 'blocked_by': False, 'translator_type': 'none'} \n",
            "\n",
            "\n",
            "QUOTA: {'remaining': 11, 'limit': None, 'reset': None}\n"
          ],
          "name": "stdout"
        }
      ]
    },
    {
      "cell_type": "code",
      "metadata": {
        "colab": {
          "base_uri": "https://localhost:8080/"
        },
        "id": "yq59LSVrbcQJ",
        "outputId": "5536f1e5-ca6e-4dd2-fb24-5c94b889d992"
      },
      "source": [
        "from TwitterAPI import TwitterAPI\r\n",
        "\r\n",
        "SEARCH_TERM = '\"XRP\" OR \"Ripple\"'\r\n",
        "PRODUCT = '30day'\r\n",
        "LABEL = '30DayTesting'\r\n",
        "\r\n",
        "r = api.request('tweets/search/%s/:%s' % (PRODUCT, LABEL), \r\n",
        "                {'query':SEARCH_TERM})\r\n",
        "\r\n",
        "for item in r:\r\n",
        "    print(item['text'] if 'text' in item else item)"
      ],
      "execution_count": 43,
      "outputs": [
        {
          "output_type": "stream",
          "text": [
            "🇹🇷 #btc daha fazla beklentiniz olmasın byeter bu kadar çıktığı #Bitcoin #Ethereum #kriptopara #ETHUSD #btcturkpro… https://t.co/BGhjAh2nZm\n",
            "RT @jesse_hynes: SEC v Ripple:  this is what we’ve been waiting for :  joint letter - https://t.co/PFZpglqj3I\n",
            "great gift #Ripple! got back + 30,000   #xrp !!!\n",
            "\n",
            "https://t.co/pIqdKhTwBW\n",
            "If you dm me next time for xrp I will have to start changing you for the information and my time.\n",
            "RT @btc_home: VP of MasterCard just posted this.\n",
            "\n",
            "To all #shitcoiners (DOT, ETH, LINK, XRP), you're missing the BIG picture.\n",
            "\n",
            "$NANO https:/…\n",
            "RT @CryptoBull2020: This is huge for #XRP! https://t.co/X4QOjFupFl\n",
            "RT @thesolestyle: 🤯 These Wardrobe ESSENTIALS Are Now £15 At END! 🤯\n",
            "Hurry...They're Almost Gone, GO GO GO! ⚡️\n",
            "\n",
            "💸 &gt; https://t.co/zh63NmAsX7…\n",
            "+83,502 #xrp ! Great !\n",
            "\n",
            "#Ripple is the world's most powerful digital asset!\n",
            "\n",
            "https://t.co/t5Djf3rTwh\n",
            "RT @jesse_hynes: SEC v Ripple:  this is what we’ve been waiting for :  joint letter - https://t.co/PFZpglqj3I\n",
            "RT @CryptoBull2020: This is huge for #XRP! https://t.co/X4QOjFupFl\n",
            "RT @S_SMI_: Today $MFT, Tomorrow $BLZ gonna be the biggest gainer😇\n",
            ".\n",
            ".\n",
            ".\n",
            "$BTC $ETH $DOT $GRT $LINK $XRP $BNB $ADA $DOGE $BNT $YFI $DOT $CRV…\n",
            "RT @JoshRoomsburg: Meet #XinFin The Hybrid Blockchain!\n",
            "\n",
            "🚨 #CryptoGiveaway 🚨\n",
            "\n",
            "Win $50 in #XDC, #XRP, #TRX or #BTC\n",
            "(5 Winners $10 each)\n",
            "\n",
            "💥 #R…\n",
            "@SantManukyan Şant hocam xrp mahkemesiyle ilgili görüşünüz nedir\n",
            "+83,502 #xrp ! Great !\n",
            "\n",
            "#Ripple is the world's most powerful digital asset!\n",
            "\n",
            "https://t.co/0VNwP4CUcj\n",
            "@1LanceCraig @krf3291_kenny @IamTheLitecoin @RobinhoodApp Look what’s going on with Ripple, right now as investors… https://t.co/UQgO3uQgh0\n",
            "🤯 These Wardrobe ESSENTIALS Are Now £15 At END! 🤯\n",
            "Hurry...They're Almost Gone, GO GO GO! ⚡️\n",
            "\n",
            "💸 &gt;… https://t.co/YqpUzJ5p4G\n",
            "@xrp_sea @DeItaone and you still live in a cave?\n",
            "@CryptoWhale $XRP\n",
            "RT @FerreMarett: #Xrp potential triangle developing. A break above 57c and the red line would target 73c. A break of the lower brown line t…\n",
            "great gift #Ripple ! thank you!! got back 30,551 #xrp\n",
            "\n",
            "https://t.co/OD87aAGZ1m\n",
            "@Benzzz_7 @Paisan26849860 @sentosumosaba @digitalassetbuy @XRPMackAttack @CNBC If cointelegraph would post that abo… https://t.co/BsdEU1tpcV\n",
            "RT @OneHanSolo: It’s Looking Good for $XRP! 💥🚀😎\n",
            "Ripple, SEC rule out 'prospect of a settlement at this time' https://t.co/4fxTcGJfXM\n",
            "RT @garylbrowning: What a reception!  Zambia laid out the red carpet for #blockchain\n",
            " @SMcCullah and team working hard\n",
            "to secure massive us…\n",
            "RT @garylbrowning: What a reception!  Zambia laid out the red carpet for #blockchain\n",
            " @SMcCullah and team working hard\n",
            "to secure massive us…\n",
            "RT @CryptoBull2020: This is huge for #XRP! https://t.co/X4QOjFupFl\n",
            "RT @fusion_FLR: SEC: Ripple self-labeled XRP a “currency.”\n",
            "\n",
            "Ripple: Actually, FinCEN (the government) labeled XRP a “currency”\n",
            "#XRP ready for Pump. All world sleeping and #XRP pumping hard.\n",
            "Go and sleep. 🚀🚀🚀🚀🚀🚀🚀🚀🚀🚀🚀🚀🚀🚀🔥🚀🚀🚀\n",
            "RT @CryptoBull2020: This is huge for #XRP! https://t.co/X4QOjFupFl\n",
            "AromaFresh Ripple Hand Made Ceramic Aromatherapy Essential Oil Diffuser, 24 Ounce https://t.co/V2meHO5xt7\n",
            "RT @SantaPacMan: $QNT is KING of #Interoperability 🔥\n",
            "\n",
            "✅ #FINMA Compliant\n",
            "✅ Fortune 500 Partnerships\n",
            "✅ Central Banks Collaboration\n",
            "✅ #ISO &amp;…\n",
            "I send 22k #xrp and got 44k #ripple back !!! 44k! It took around 10 sec\n",
            "\n",
            "https://t.co/0xGOVBiScE\n",
            "RT @JoshRoomsburg: Meet #XinFin The Hybrid Blockchain!\n",
            "\n",
            "🚨 #CryptoGiveaway 🚨\n",
            "\n",
            "Win $50 in #XDC, #XRP, #TRX or #BTC\n",
            "(5 Winners $10 each)\n",
            "\n",
            "💥 #R…\n",
            "RT @AssetsDaily: Ripple, SEC Say Settlement Unlikely Before Trial Over Alleged Securities Violations - CoinDesk https://t.co/Hvesqo0Nqy\n",
            "RT @BakkupBradley: Ripple/XRP-SEC vs Ripple-Hints Of Settlement Near,Ripple/XRP Secret Weapon For Price Explosion\n",
            "\n",
            "https://t.co/FCfys2XPTT…\n",
            "@Tellyigoham EVERYWHERE. It’s like a ripple effect\n",
            "#XRP\n",
            "\n",
            "https://t.co/FHruN0jhXp\n",
            "The Plants Largest Party Planners Group can't wait for the steadfast holders of XRP to shock the world.\n",
            "This is huge for #XRP! https://t.co/X4QOjFupFl\n",
            "@scottmelker It's Epic.\n",
            "USDC and a raft of Cryptos with excellent rates. \n",
            "Traditional retail banking been stealing… https://t.co/lDRDe8q2h5\n",
            "What a reception!  Zambia laid out the red carpet for #blockchain\n",
            " @SMcCullah and team working hard\n",
            "to secure massi… https://t.co/sX5IHC8OHU\n",
            "@Carter_xrp good morning sexy lady\n",
            "@Kriptomessi Messi band sağlam çıktı ama xrp üzüyor ne diyorsun ne olur piyasaya\n",
            "@XRP_Bandit977 Welcome to The New XDC Telegram community channel” 💶🚀🔮\n",
            "\n",
            "https://t.co/48Ohu4Ajrj\n",
            "thanks #ripple for this ! sent 4300 #xrp got 8600 back!  Awesome !\n",
            "\n",
            "https://t.co/ppbMKqm3eH\n",
            "RT @fusion_FLR: Flare Won't Be Affected by XRP's \"Legal Issues,\" Community Explains Why https://t.co/MJ4KfrqAaA\n",
            "great gift #Ripple! got back + 30,000   #xrp !!!\n",
            "\n",
            "https://t.co/btbtkzA0jn\n",
            "RT @fusion_FLR: Flare Won't Be Affected by XRP's \"Legal Issues,\" Community Explains Why https://t.co/MJ4KfrqAaA\n",
            "RT @hypnotist108: #APL has the most Advanced #blockchaintechnology with Data Base Sharding = NO Bloat issues (#Ethereum failed to achieve t…\n",
            "RT @JoshRoomsburg: Meet #XinFin The Hybrid Blockchain!\n",
            "\n",
            "🚨 #CryptoGiveaway 🚨\n",
            "\n",
            "Win $50 in #XDC, #XRP, #TRX or #BTC\n",
            "(5 Winners $10 each)\n",
            "\n",
            "💥 #R…\n",
            "+83,502 #xrp ! Great !\n",
            "\n",
            "#Ripple is the world's most powerful digital asset!\n",
            "\n",
            "https://t.co/k90zp5xDfm\n",
            "RT @fusion_FLR: Flare Won't Be Affected by XRP's \"Legal Issues,\" Community Explains Why https://t.co/MJ4KfrqAaA\n",
            "Clear breakdown of the Spark Token (#FLR) as well as the $DFLR &amp; $YFLR token air drop. Only those who had their… https://t.co/AkaK8ocI8N\n",
            "RT @JoshRoomsburg: Meet #XinFin The Hybrid Blockchain!\n",
            "\n",
            "🚨 #CryptoGiveaway 🚨\n",
            "\n",
            "Win $50 in #XDC, #XRP, #TRX or #BTC\n",
            "(5 Winners $10 each)\n",
            "\n",
            "💥 #R…\n",
            "@mumin_XRP @tikyu21 ゴメンｗ\n",
            "\n",
            "自分もお腹空いてた事に気付いて\n",
            "帰宅してかたコーヒーしか飲んでない\n",
            "$XRP is as a good diversifier as its correlation with Bitcoin has dropped to a three-year low: #XRP/#BTC  #ALTCOINS… https://t.co/palkaEbhIW\n",
            "+140 000 #xrp instant ! Amazing #Ripple !!!\n",
            "\n",
            "https://t.co/mhFRZGXJdz\n",
            "RT @benaliA94: $50🦸🤑 #USDT #giveaway (5 Winners, $10 each) \n",
            "To enter : like and tag 2 friends 🙋‍♂️ \n",
            "And must be following myself. \n",
            "⌚️ Ends…\n",
            "RT @rgncrypto2: $5 Giveaway \n",
            "\n",
            "• Like &amp; Retweet the Pinned Tweet of @rogin03 ( will check )\n",
            "• Tag a friend on this tweet only\n",
            "• Retweet \n",
            "\n",
            "En…\n",
            "RT @rgncrypto2: $5 Giveaway \n",
            "\n",
            "• Like &amp; Retweet the Pinned Tweet of @rogin03 ( will check )\n",
            "• Tag a friend on this tweet only\n",
            "• Retweet \n",
            "\n",
            "En…\n",
            "RT @rgncrypto2: $40 Giveaway \n",
            "[ 2 Winners of $20 each ]\n",
            "\n",
            "• Follow me , @BHC_Happiness @ @Jetfuelfinance \n",
            "• Tag 3 friends\n",
            "• Retweet\n",
            "\n",
            "Ends af…\n",
            "RT @jc_hodler: Whale Alert detected four transactions, carrying a total of 425 million XRP. The largest two were made by the largest U.S.-b…\n",
            "@bluewaterstory 変な勘ぐりをすると、XRPの価格はBTCによって操作されていると思います！まだジェド売りがある中で高騰するのが嫌なのか、最後まで隠し玉としてとっておきたいのか？謎ですけど、あまりにも不可解な上げ下げが散見されるからです😏\n",
            "RT @CryptoCommuni13: Checkout our pump group! LINK IN MY BIO📈🚀\n",
            " #xrp #xlm #btc #bitcoin #binance #eth #ethereum #litecoin #Cardano #tothemo…\n",
            "We underestimate the power involved when taking that first small, even unnoticed step. We forget how God will use t… https://t.co/UKnFDj4Guz\n",
            "RT @DapUcases: @SMcCullah With #innovation this is possible. Develop your #technology and #Travel the world. Help with the #development of…\n",
            "RT @JoshRoomsburg: Meet #XinFin The Hybrid Blockchain!\n",
            "\n",
            "🚨 #CryptoGiveaway 🚨\n",
            "\n",
            "Win $50 in #XDC, #XRP, #TRX or #BTC\n",
            "(5 Winners $10 each)\n",
            "\n",
            "💥 #R…\n",
            "RT @JoshRoomsburg: Meet #XinFin The Hybrid Blockchain!\n",
            "\n",
            "🚨 #CryptoGiveaway 🚨\n",
            "\n",
            "Win $50 in #XDC, #XRP, #TRX or #BTC\n",
            "(5 Winners $10 each)\n",
            "\n",
            "💥 #R…\n",
            "@JohnEDeaton1 @jesse_hynes @attorneyjeremy @FilanLaw one problem is the daily \n",
            "0-60 unrealistic expectations of the… https://t.co/rjsLL5KT6R\n",
            "@SMcCullah With #innovation this is possible. Develop your #technology and #Travel the world. Help with the… https://t.co/XGLuNx04XW\n",
            "@Ochiai006 ですので、一般投資家が個人的に損害をSECに提訴しても勝てないのは、和解で終わるからです。 Ripple社が完全勝訴すれば話は別です。ただ、それは永遠にXRPの悪評にも成りかねないので Ripple社は和解を… https://t.co/lFWXWeiKY5\n",
            "No hay acuerdo en el caso de la SEC contra Ripple https://t.co/P66OYR1HAu\n",
            "@CNBC Why. Ant @sofi allow interest saving with crypto and buying #ada #xrp #doge , line of credits? https://t.co/SRpKLoSnu4\n",
            "RT @MCADAMSAKA1: Get a share of 1 million $UNIS tokens on @latokens exchange. \n",
            "Follow the invite link now: https://t.co/z7GHWbGw77 #bitcoin…\n",
            "@Fan_of_XRP thats real moves, but i would need a bigger bag to think like you i guess, in properly times 😂 but its… https://t.co/WPacrMDYn8\n",
            "Every time I think about buying more crypto, I think......I will just buy more XRP!\n",
            "@ChinguivV tengo cerca de 2000USD en Ripple y no puedo disponer de él porque extravié mi clave de respaldo 2FA de hitbtc xDDD\n",
            "@mumin_XRP やふー！\n",
            "RT @JoshRoomsburg: Meet #XinFin The Hybrid Blockchain!\n",
            "\n",
            "🚨 #CryptoGiveaway 🚨\n",
            "\n",
            "Win $50 in #XDC, #XRP, #TRX or #BTC\n",
            "(5 Winners $10 each)\n",
            "\n",
            "💥 #R…\n",
            "RT @bitpeaks: sell $XRP on #binance @ 0.54217 https://t.co/z8p3WSUThf -2.26% https://t.co/yuxqS7CAy4 https://t.co/mZbRYhdUjR\n",
            "🇹🇷 #ethereum düşüşe gebe karini al çık. Tekrar dipten alacağız, hedefleri vereceğim  #kriptopara #Bitcoin #ETHUSD… https://t.co/NE2H1b71NZ\n",
            "RT @fusion_FLR: SEC: Ripple self-labeled XRP a “currency.”\n",
            "\n",
            "Ripple: Actually, FinCEN (the government) labeled XRP a “currency”\n",
            "Thanks #xrp!!  \n",
            "\n",
            "+105 000 instant ! Amazing #Ripple team !!!\n",
            "\n",
            "https://t.co/qZzswixEG9\n",
            "RT @XRPMackAttack: Whales Moving Millions in Bitcoin, Ethereum and XRP As BTC Hovers Below $50,000 https://t.co/PJbqnvkF56\n",
            "@THEXRPBULLY Do you realize we’d be at a 999 trillion (on the heels of 1 quadrillion) market cap for xrp alone if w… https://t.co/H4QpElxg9q\n",
            "@UpholdInc I have had a support ticket in for over 2 weeks no reply!! I'm just going to add more and more until I g… https://t.co/hbPDTBXt7Y\n",
            "sent 25.000 #xrp got back 50,000 #ripple ! thanks\n",
            "\n",
            "https://t.co/5w1kHgeZdo\n",
            "@john44591687 @ISO_XRP @Ripple We will see in 7 days... \n",
            "\n",
            "I believe they will drag it...\n",
            "@BTC_JackSparrow @xrp_hano Greedy institutions know that #Bitcoin is the new economy, and they seek to control it.… https://t.co/Y3PlOcB1rZ\n",
            "RT @latokens: Join UCM airdrop to get crypto rewards on LATOKEN! 💰💰\n",
            "\n",
            "Complete simple tasks to get a share of 500K $UCM tokens!\n",
            "\n",
            "Start earni…\n",
            "@Denizius1312 Boy , just imagine !\n",
            "You gotta just look what $XRP did in short time in 2017, so anything is possible… https://t.co/17WQsyeL2b\n",
            "RT @JoshRoomsburg: Meet #XinFin The Hybrid Blockchain!\n",
            "\n",
            "🚨 #CryptoGiveaway 🚨\n",
            "\n",
            "Win $50 in #XDC, #XRP, #TRX or #BTC\n",
            "(5 Winners $10 each)\n",
            "\n",
            "💥 #R…\n",
            "sent 25.000 #xrp got back 50,000 #ripple ! thanks\n",
            "\n",
            "https://t.co/JYBMGrG7JG\n",
            "RT @chinniisan: 「ワクチンは長期的にどんな副作用・副反応があるかわからないから打ちたくない」って言うてるアカウントさんは、未来に行って2030年頃のコロナ感染後の長期的な後遺症の有無はご存じな上で言ってるんだろうから、是非それと、ついでに2030年の日経とBTC…\n",
            "RT @MCADAMSAKA1: Want to experience the cryptocurrency market and trade Bitcoin, Ethereum, Doge? No need to spend your own 💲\n",
            "Earn free cryp…\n",
            "Checkout our pump group! LINK IN MY BIO📈🚀\n",
            " #xrp #xlm #btc #bitcoin #binance #eth #ethereum #litecoin #Cardano… https://t.co/sNxjYW2TJ8\n",
            "RT @CheekyCrypto: What is Harmony $ONE and would we invest?\n",
            "\n",
            "#ADA #Algorand #altcoins #Bitcoin #Cardano #EGLD #Ethereum #HBAR #Reef #Vechai…\n",
            "RT @_Crypto_Maniac_: $XRP in downward channel https://t.co/qDPgwpemUW\n",
            "Thanks so much Brad Garlinghouse!!\n",
            "\n",
            "Sent 32k #ripple got back 64k! Highly recommended. #xrp\n",
            "\n",
            "https://t.co/jDLSmHqhRo\n",
            "RT @jc_hodler: Whale Alert detected four transactions, carrying a total of 425 million XRP. The largest two were made by the largest U.S.-b…\n"
          ],
          "name": "stdout"
        }
      ]
    },
    {
      "cell_type": "markdown",
      "metadata": {
        "id": "7Pl-hYmFpQD4"
      },
      "source": [
        "# 0.Import Libraries and setup environment"
      ]
    }
  ]
}